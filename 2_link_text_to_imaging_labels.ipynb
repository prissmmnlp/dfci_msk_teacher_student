{
 "cells": [
  {
   "cell_type": "code",
   "execution_count": null,
   "id": "0992f699-4e31-417e-853d-af1621d9d55b",
   "metadata": {},
   "outputs": [],
   "source": [
    "# notebook used to link imaging reports to manual annotations done according to PRISSMM."
   ]
  },
  {
   "cell_type": "code",
   "execution_count": 1,
   "id": "41c5fe2c",
   "metadata": {},
   "outputs": [],
   "source": [
    "import numpy as np\n",
    "import pandas as pd"
   ]
  },
  {
   "cell_type": "code",
   "execution_count": 2,
   "id": "5d93cc4a",
   "metadata": {},
   "outputs": [],
   "source": [
    "def find_metsite(dataset, mincode, maxcode):\n",
    "    temp = np.where(((dataset['image_casite1'] >= mincode) & (dataset['image_casite1'] <= maxcode)) |\n",
    "                    ((dataset['image_casite2'] >= mincode) & (dataset['image_casite2'] <= maxcode)) |\n",
    "                    ((dataset['image_casite3'] >= mincode) & (dataset['image_casite3'] <= maxcode)) |\n",
    "                    ((dataset['image_casite4'] >= mincode) & (dataset['image_casite4'] <= maxcode)) |\n",
    "                    ((dataset['image_casite5'] >= mincode) & (dataset['image_casite5'] <= maxcode)) |\n",
    "                    ((dataset['image_casite6'] >= mincode) & (dataset['image_casite6'] <= maxcode)) |\n",
    "                    ((dataset['image_casite7'] >= mincode) & (dataset['image_casite7'] <= maxcode)) |\n",
    "                    ((dataset['image_casite8'] >= mincode) & (dataset['image_casite8'] <= maxcode)) |\n",
    "                    ((dataset['image_casite9'] >= mincode) & (dataset['image_casite9'] <= maxcode)) |\n",
    "                    ((dataset['image_casite10'] >= mincode) & (dataset['image_casite10'] <= maxcode)) |\n",
    "                    ((dataset['image_casite11'] >= mincode) & (dataset['image_casite11'] <= maxcode)) |\n",
    "                    ((dataset['image_casite12'] >= mincode) & (dataset['image_casite12'] <= maxcode)) |\n",
    "                    ((dataset['image_casite13'] >= mincode) & (dataset['image_casite13'] <= maxcode)) |\n",
    "                    ((dataset['image_casite14'] >= mincode) & (dataset['image_casite14'] <= maxcode)) |\n",
    "                    ((dataset['image_casite15'] >= mincode) & (dataset['image_casite15'] <= maxcode)),\n",
    "                    1, 0)\n",
    "    return temp\n",
    "    #return np.where(np.isnan(temp), 0, temp)"
   ]
  },
  {
   "cell_type": "code",
   "execution_count": 3,
   "id": "e779b437",
   "metadata": {},
   "outputs": [],
   "source": [
    "def parse_imaging_file(dataset):\n",
    "    newset = dataset.copy()\n",
    "    newset = newset[newset.redcap_repeat_instrument == 'prissmm_imaging']\n",
    "    newset = newset[newset.prissmm_imaging_complete == 2]\n",
    "    newset['brain_met'] = find_metsite(newset, 700, 719)\n",
    "    newset['bone_met'] = find_metsite(newset, 400, 419)\n",
    "    newset['adrenal_met'] = find_metsite(newset, 740, 749)\n",
    "    newset['liver_met'] = find_metsite(newset, 220, 220)\n",
    "    newset['lung_met'] = find_metsite(newset, 340, 349)\n",
    "    newset['node_met'] = find_metsite(newset, 770, 779)\n",
    "    newset['peritoneal_met'] = find_metsite(newset, 481, 482)\n",
    "    newset['ascites'] = find_metsite(newset, 901, 901)\n",
    "    newset['peritoneal_met'] = np.where((newset.peritoneal_met==1) | (newset.ascites==1), 1, 0)\n",
    "    newset['any_cancer'] = np.where(newset['image_ca'] == 1, 1, 0)\n",
    "    newset['response'] = np.where(newset['image_overall'] == 1, 1, 0)\n",
    "    newset['progression'] = np.where(newset['image_overall'] == 4, 1, 0)\n",
    "    newset['class_status'] = np.where(newset['any_cancer'] == 0, 0, newset['image_overall'])\n",
    "    newset = newset.rename(columns={'image_scansite___1':'head_imaged',\n",
    "                           'image_scansite___2':'spine_imaged',\n",
    "                           'image_scansite___3':'neck_imaged',\n",
    "                           'image_scansite___4':'chest_imaged',\n",
    "                           'image_scansite___5':'abdomen_imaged',\n",
    "                           'image_scansite___6':'pelvis_imaged',\n",
    "                           'image_scansite___7':'extremity_imaged',\n",
    "                           'image_scansite___8':'whole_body_imaged'})\n",
    "    newset['head_imaged'] = np.where(newset['whole_body_imaged']==1, 1, newset['head_imaged'])\n",
    "    newset['spine_imaged'] = np.where(newset['whole_body_imaged']==1, 1, newset['spine_imaged'])\n",
    "    newset['neck_imaged'] = np.where(newset['whole_body_imaged']==1, 1, newset['neck_imaged'])\n",
    "    newset['chest_imaged'] = np.where(newset['whole_body_imaged']==1, 1, newset['chest_imaged'])\n",
    "    newset['abdomen_imaged'] = np.where(newset['whole_body_imaged']==1, 1, newset['abdomen_imaged'])\n",
    "    newset['pelvis_imaged'] = np.where(newset['whole_body_imaged']==1, 1, newset['pelvis_imaged'])\n",
    "    newset['extremity_imaged'] = np.where(newset['whole_body_imaged']==1, 1, newset['extremity_imaged'])\n",
    "    newset['date'] = pd.to_datetime(newset.image_scan_dt)\n",
    "\n",
    "    return newset[['record_id','date','image_scan_type','any_cancer','progression','response','class_status','brain_met','bone_met','adrenal_met','liver_met','lung_met','node_met','peritoneal_met','head_imaged','neck_imaged','spine_imaged','chest_imaged','abdomen_imaged','pelvis_imaged','extremity_imaged','whole_body_imaged']]"
   ]
  },
  {
   "cell_type": "code",
   "execution_count": 19,
   "id": "7797c6e8",
   "metadata": {},
   "outputs": [],
   "source": [
    "# pull text\n",
    "all_imaging = pd.read_csv('/mnt/d/Dropbox (Partners Healthcare)/profile_3-2023/derived_data/all_imaging_for_prissmm.csv')\n",
    "all_imaging = all_imaging[~all_imaging.scan_type.str.contains('NO INTERPRETATION')]\n",
    "all_imaging['date'] = pd.to_datetime(all_imaging.date)\n",
    "\n",
    "all_imaging['image_scan_type'] = np.where(all_imaging.scan_type.str[:2] == 'CT', 1, 99)\n",
    "all_imaging['image_scan_type'] = np.where(all_imaging.scan_type.str[:3] == 'MRI', 3, all_imaging['image_scan_type'])\n",
    "all_imaging['image_scan_type'] = np.where(all_imaging.scan_type.str[:6] == 'NM PET', 5, all_imaging['image_scan_type'])\n",
    "all_imaging['image_scan_type'] = np.where(all_imaging.scan_type.str[:7] == 'NM BONE', 7, all_imaging['image_scan_type'])\n",
    "all_imaging['image_scan_type'] = np.where(all_imaging.scan_type.str[:8] == 'BI MAMMO', 11, all_imaging['image_scan_type'])\n",
    "\n",
    "all_imaging = all_imaging[all_imaging.image_scan_type != 99]\n",
    "\n",
    "all_imaging['head_imaged'] = np.where(all_imaging.scan_type.str.contains('BRAIN|HEAD') | all_imaging.image_scan_type.isin([5, 7]), 1, 0)\n",
    "all_imaging['neck_imaged'] = np.where(all_imaging.scan_type.str.contains('NECK') | all_imaging.image_scan_type.isin([5,7]), 1, 0)\n",
    "all_imaging['spine_imaged'] = np.where(all_imaging.scan_type.str.contains('SPINE') | all_imaging.image_scan_type.isin([5,7]), 1, 0)\n",
    "all_imaging['chest_imaged'] = np.where(all_imaging.scan_type.str.contains('CHEST') | all_imaging.image_scan_type.isin([5,7,11]), 1, 0)\n",
    "all_imaging['abdomen_imaged'] = np.where(all_imaging.scan_type.str.contains('ABDOMEN') | all_imaging.image_scan_type.isin([5,7]), 1, 0)\n",
    "all_imaging['pelvis_imaged'] = np.where(all_imaging.scan_type.str.contains('PELVIS') | all_imaging.image_scan_type.isin([5,7]), 1, 0)\n",
    "\n",
    "\n"
   ]
  },
  {
   "cell_type": "code",
   "execution_count": 20,
   "id": "55a9adcd-6ce0-43ba-98dc-551f1bdf9aca",
   "metadata": {},
   "outputs": [
    {
     "data": {
      "text/plain": [
       "1     379013\n",
       "3     139375\n",
       "5      39321\n",
       "11     38183\n",
       "7      13743\n",
       "Name: image_scan_type, dtype: int64"
      ]
     },
     "execution_count": 20,
     "metadata": {},
     "output_type": "execute_result"
    }
   ],
   "source": [
    "all_imaging.image_scan_type.value_counts()"
   ]
  },
  {
   "cell_type": "code",
   "execution_count": 21,
   "id": "e4ef563c",
   "metadata": {},
   "outputs": [
    {
     "data": {
      "text/plain": [
       "Lung Adenocarcinoma                                            85525\n",
       "Colon Adenocarcinoma                                           36899\n",
       "Breast Invasive Ductal Carcinoma                               34237\n",
       "Invasive Breast Carcinoma                                      32744\n",
       "High-Grade Serous Ovarian Cancer                               22695\n",
       "Melanoma                                                       19960\n",
       "Pancreatic Adenocarcinoma                                      18813\n",
       "Prostate Adenocarcinoma                                        15209\n",
       "Glioblastoma                                                   14798\n",
       "Bladder Urothelial Carcinoma                                   13763\n",
       "Lung Squamous Cell Carcinoma                                    9725\n",
       "Renal Clear Cell Carcinoma                                      9438\n",
       "Non-Small Cell Lung Cancer                                      8864\n",
       "Rectal Adenocarcinoma                                           8604\n",
       "Uterine Endometrioid Carcinoma                                  8044\n",
       "Esophageal Adenocarcinoma                                       7576\n",
       "Colorectal Adenocarcinoma                                       7347\n",
       "Gastrointestinal Stromal Tumor                                  6877\n",
       "Adenocarcinoma, NOS                                             6776\n",
       "Leiomyosarcoma                                                  6769\n",
       "Breast Invasive Lobular Carcinoma                               6592\n",
       "Glioblastoma Multiforme                                         6560\n",
       "Papillary Thyroid Cancer                                        5231\n",
       "Cutaneous Melanoma                                              4580\n",
       "Uterine Serous Carcinoma/Uterine Papillary Serous Carcinoma     4208\n",
       "Name: primary_cancer_diagnosis, dtype: int64"
      ]
     },
     "execution_count": 21,
     "metadata": {},
     "output_type": "execute_result"
    }
   ],
   "source": [
    "all_imaging.primary_cancer_diagnosis.value_counts()[0:25]"
   ]
  },
  {
   "cell_type": "code",
   "execution_count": 22,
   "id": "00fdba67",
   "metadata": {},
   "outputs": [
    {
     "name": "stdout",
     "output_type": "stream",
     "text": [
      "<class 'pandas.core.frame.DataFrame'>\n",
      "Int64Index: 609635 entries, 0 to 776301\n",
      "Data columns (total 20 columns):\n",
      " #   Column                    Non-Null Count   Dtype         \n",
      "---  ------                    --------------   -----         \n",
      " 0   Unnamed: 0                609635 non-null  int64         \n",
      " 1   dfci_mrn                  609635 non-null  int64         \n",
      " 2   date                      609635 non-null  datetime64[ns]\n",
      " 3   text                      609635 non-null  object        \n",
      " 4   impression_text           436265 non-null  object        \n",
      " 5   scan_type                 609635 non-null  object        \n",
      " 6   patient_id                609635 non-null  int64         \n",
      " 7   hybrid_death_ind          609635 non-null  object        \n",
      " 8   hybrid_death_dt           308914 non-null  object        \n",
      " 9   primary_cancer_diagnosis  609635 non-null  object        \n",
      " 10  genomics_date             609635 non-null  object        \n",
      " 11  after_profile             609635 non-null  int64         \n",
      " 12  split                     609635 non-null  object        \n",
      " 13  image_scan_type           609635 non-null  int64         \n",
      " 14  head_imaged               609635 non-null  int64         \n",
      " 15  neck_imaged               609635 non-null  int64         \n",
      " 16  spine_imaged              609635 non-null  int64         \n",
      " 17  chest_imaged              609635 non-null  int64         \n",
      " 18  abdomen_imaged            609635 non-null  int64         \n",
      " 19  pelvis_imaged             609635 non-null  int64         \n",
      "dtypes: datetime64[ns](1), int64(11), object(8)\n",
      "memory usage: 97.7+ MB\n"
     ]
    }
   ],
   "source": [
    "all_imaging.info()"
   ]
  },
  {
   "cell_type": "code",
   "execution_count": 23,
   "id": "0afa43bb",
   "metadata": {},
   "outputs": [],
   "source": [
    "# different imaging report types\n",
    "prefix = '/mnt/d/Dropbox (Partners Healthcare)/'\n",
    "dataset_list = []\n",
    "for cancer_type in ['nsclc_phase2_existing','crc','breast','pancreas','bladder','prostate']:\n",
    "    pts = pd.read_csv(prefix+'profile_3-2023/redcaps/' + cancer_type + '_ptchars.csv', low_memory=False)[['record_id','internal_mrn']]\n",
    "    pts = pts.sort_values(by=['record_id','internal_mrn']).reset_index(drop=True)\n",
    "    pts = pts.groupby('internal_mrn').first().reset_index(drop=False).rename(columns={'internal_mrn':'dfci_mrn'})\n",
    "    \n",
    "    # for prostate patients only take BPC cases? that would be inconsistent...\n",
    "    \n",
    "    imaging = pd.read_csv(prefix+'profile_3-2023/redcaps/' + cancer_type + '_imaging.csv', low_memory=False)\n",
    "    imaging = parse_imaging_file(imaging)\n",
    "    imaging = pd.merge(pts, imaging, on='record_id').drop(columns='record_id')\n",
    "    imaging['cancer_type'] = cancer_type\n",
    "    temp = pd.merge(imaging, all_imaging, on=['dfci_mrn','image_scan_type','date','head_imaged','neck_imaged','spine_imaged','chest_imaged','abdomen_imaged','pelvis_imaged'])\n",
    "\n",
    "    dataset_list.append(temp)"
   ]
  },
  {
   "cell_type": "code",
   "execution_count": 24,
   "id": "32d8b656",
   "metadata": {},
   "outputs": [
    {
     "data": {
      "text/plain": [
       "1    6089\n",
       "0    3830\n",
       "Name: any_cancer, dtype: int64"
      ]
     },
     "execution_count": 24,
     "metadata": {},
     "output_type": "execute_result"
    }
   ],
   "source": [
    "imaging.any_cancer.value_counts()"
   ]
  },
  {
   "cell_type": "code",
   "execution_count": 25,
   "id": "105c59aa",
   "metadata": {},
   "outputs": [
    {
     "data": {
      "text/plain": [
       "False    9919\n",
       "Name: class_status, dtype: int64"
      ]
     },
     "execution_count": 25,
     "metadata": {},
     "output_type": "execute_result"
    }
   ],
   "source": [
    "imaging.class_status.isnull().value_counts()"
   ]
  },
  {
   "cell_type": "code",
   "execution_count": 26,
   "id": "4a5ebf00",
   "metadata": {},
   "outputs": [
    {
     "data": {
      "text/plain": [
       "0.0    3830\n",
       "4.0    2361\n",
       "5.0    1529\n",
       "2.0    1510\n",
       "1.0     419\n",
       "3.0     270\n",
       "Name: class_status, dtype: int64"
      ]
     },
     "execution_count": 26,
     "metadata": {},
     "output_type": "execute_result"
    }
   ],
   "source": [
    "imaging.class_status.value_counts()"
   ]
  },
  {
   "cell_type": "code",
   "execution_count": 27,
   "id": "877b1526",
   "metadata": {},
   "outputs": [],
   "source": [
    "# now do RCC\n",
    "pts = pd.read_csv(prefix+'profile_3-2023/redcaps/rcc_barkouny_ptchars.csv', low_memory=False)[['record_id','local_mrn']]\n",
    "pts = pts.sort_values(by=['record_id','local_mrn']).reset_index(drop=True)\n",
    "pts = pts.groupby('local_mrn').first().reset_index(drop=False).rename(columns={'local_mrn':'dfci_mrn'})\n",
    "    \n",
    "imaging = pd.read_csv(prefix+'profile_3-2023/redcaps/rcc_barkouny_imaging.csv', low_memory=False)\n",
    "imaging = imaging[imaging.redcap_repeat_instrument == 'prissmm_imaging_meta_data']\n",
    "\n",
    "imaging['image_scan_dt'] = np.where(imaging.image_scan_dt.isnull(), imaging.image_report_dt, imaging.image_scan_dt)\n",
    "\n",
    "imaging['any_cancer'] = np.where(imaging['image_ca'] == 1, 1, 0)\n",
    "imaging['response'] = np.where(imaging['image_overall'] == 1, 1, 0)\n",
    "imaging['progression'] = np.where(imaging['image_overall'] == 4, 1, 0)\n",
    "imaging['class_status'] = np.where(imaging['any_cancer'] == 0, 0, imaging['image_overall'])\n",
    "\n",
    "imaging = imaging.rename(columns={'image_scansite___1':'head_imaged',\n",
    "                       'image_scansite___2':'neck_imaged',\n",
    "                       'image_scansite___3':'chest_imaged',\n",
    "                       'image_scansite___4':'abdomen_imaged',\n",
    "                       'image_scansite___5':'pelvis_imaged',\n",
    "                       'image_scansite___6':'extremity_imaged',\n",
    "                       'image_scansite___7':'whole_body_imaged'})\n",
    "imaging['head_imaged'] = np.where(imaging['whole_body_imaged']==1, 1, imaging['head_imaged'])\n",
    "imaging['neck_imaged'] = np.where(imaging['whole_body_imaged']==1, 1, imaging['neck_imaged'])\n",
    "imaging['chest_imaged'] = np.where(imaging['whole_body_imaged']==1, 1, imaging['chest_imaged'])\n",
    "imaging['abdomen_imaged'] = np.where(imaging['whole_body_imaged']==1, 1, imaging['abdomen_imaged'])\n",
    "imaging['pelvis_imaged'] = np.where(imaging['whole_body_imaged']==1, 1, imaging['pelvis_imaged'])\n",
    "imaging['extremity_imaged'] = np.where(imaging['whole_body_imaged']==1, 1, imaging['extremity_imaged'])\n",
    "imaging['date'] = pd.to_datetime(imaging.image_scan_dt)\n",
    "\n",
    "\n",
    "\n",
    "imaging['brain_met'] = imaging.image_site___30\n",
    "imaging['bone_met'] = imaging.image_site___25\n",
    "imaging['adrenal_met'] = imaging.image_site___1\n",
    "imaging['liver_met'] = imaging.image_site___95\n",
    "imaging['lung_met'] = imaging.image_site___100\n",
    "imaging['node_met'] = np.where((imaging.image_site___105==1) | (imaging.image_site___110==1) | (imaging.image_site___115==1), 1, 0)\n",
    "imaging['peritoneal_met'] = imaging.image_site___150\n",
    "\n",
    "imaging = pd.merge(pts, imaging, on='record_id').reset_index()\n",
    "imaging['cancer_type'] = 'rcc_barkouny'\n",
    "\n",
    "imaging['spine_imaged'] = 99\n",
    "\n",
    "\n",
    "imaging = imaging[['dfci_mrn','date','image_scan_type','any_cancer','progression','response','class_status','brain_met','bone_met','adrenal_met','liver_met','lung_met','node_met','peritoneal_met','head_imaged','neck_imaged','spine_imaged','cancer_type','chest_imaged','abdomen_imaged','pelvis_imaged','extremity_imaged','whole_body_imaged']]\n",
    "\n",
    "temp = pd.merge(imaging, all_imaging.drop(columns='spine_imaged'), on=['dfci_mrn','image_scan_type','date','head_imaged','neck_imaged','chest_imaged','abdomen_imaged','pelvis_imaged'])\n",
    "dataset_list.append(temp)"
   ]
  },
  {
   "cell_type": "code",
   "execution_count": 28,
   "id": "daa68c34",
   "metadata": {},
   "outputs": [
    {
     "name": "stdout",
     "output_type": "stream",
     "text": [
      "<class 'pandas.core.frame.DataFrame'>\n",
      "Int64Index: 5763 entries, 0 to 5762\n",
      "Data columns (total 34 columns):\n",
      " #   Column                    Non-Null Count  Dtype         \n",
      "---  ------                    --------------  -----         \n",
      " 0   dfci_mrn                  5763 non-null   int64         \n",
      " 1   date                      5763 non-null   datetime64[ns]\n",
      " 2   image_scan_type           5763 non-null   float64       \n",
      " 3   any_cancer                5763 non-null   int64         \n",
      " 4   progression               5763 non-null   int64         \n",
      " 5   response                  5763 non-null   int64         \n",
      " 6   class_status              5763 non-null   float64       \n",
      " 7   brain_met                 5763 non-null   int64         \n",
      " 8   bone_met                  5763 non-null   int64         \n",
      " 9   adrenal_met               5763 non-null   int64         \n",
      " 10  liver_met                 5763 non-null   int64         \n",
      " 11  lung_met                  5763 non-null   int64         \n",
      " 12  node_met                  5763 non-null   int64         \n",
      " 13  peritoneal_met            5763 non-null   int64         \n",
      " 14  head_imaged               5763 non-null   float64       \n",
      " 15  neck_imaged               5763 non-null   float64       \n",
      " 16  spine_imaged              5763 non-null   float64       \n",
      " 17  chest_imaged              5763 non-null   float64       \n",
      " 18  abdomen_imaged            5763 non-null   float64       \n",
      " 19  pelvis_imaged             5763 non-null   float64       \n",
      " 20  extremity_imaged          5763 non-null   float64       \n",
      " 21  whole_body_imaged         5763 non-null   float64       \n",
      " 22  cancer_type               5763 non-null   object        \n",
      " 23  Unnamed: 0                5763 non-null   int64         \n",
      " 24  text                      5763 non-null   object        \n",
      " 25  impression_text           4295 non-null   object        \n",
      " 26  scan_type                 5763 non-null   object        \n",
      " 27  patient_id                5763 non-null   int64         \n",
      " 28  hybrid_death_ind          5763 non-null   object        \n",
      " 29  hybrid_death_dt           4135 non-null   object        \n",
      " 30  primary_cancer_diagnosis  5763 non-null   object        \n",
      " 31  genomics_date             5763 non-null   object        \n",
      " 32  after_profile             5763 non-null   int64         \n",
      " 33  split                     5763 non-null   object        \n",
      "dtypes: datetime64[ns](1), float64(10), int64(14), object(9)\n",
      "memory usage: 1.5+ MB\n"
     ]
    }
   ],
   "source": [
    "dataset_list[5].info()"
   ]
  },
  {
   "cell_type": "code",
   "execution_count": 29,
   "id": "6b3bcb9e",
   "metadata": {},
   "outputs": [],
   "source": [
    "final = pd.concat(dataset_list, axis=0)"
   ]
  },
  {
   "cell_type": "code",
   "execution_count": 30,
   "id": "b42ee3d1",
   "metadata": {},
   "outputs": [
    {
     "data": {
      "text/plain": [
       "nsclc_phase2_existing    10524\n",
       "breast                    6888\n",
       "crc                       6805\n",
       "prostate                  5763\n",
       "pancreas                  3598\n",
       "bladder                   3498\n",
       "rcc_barkouny              3254\n",
       "Name: cancer_type, dtype: int64"
      ]
     },
     "execution_count": 30,
     "metadata": {},
     "output_type": "execute_result"
    }
   ],
   "source": [
    "final.cancer_type.value_counts()"
   ]
  },
  {
   "cell_type": "code",
   "execution_count": 31,
   "id": "28f903d9-cbb7-4507-ab21-af7943a559e4",
   "metadata": {},
   "outputs": [
    {
     "data": {
      "text/plain": [
       "1.0     23359\n",
       "3.0      8648\n",
       "7.0      4127\n",
       "5.0      3342\n",
       "11.0      854\n",
       "Name: image_scan_type, dtype: int64"
      ]
     },
     "execution_count": 31,
     "metadata": {},
     "output_type": "execute_result"
    }
   ],
   "source": [
    "final.image_scan_type.value_counts()"
   ]
  },
  {
   "cell_type": "code",
   "execution_count": 33,
   "id": "3c8270b4",
   "metadata": {},
   "outputs": [],
   "source": [
    "final = final.groupby(['dfci_mrn','cancer_type','image_scan_type','date','head_imaged','neck_imaged','spine_imaged','chest_imaged','abdomen_imaged','pelvis_imaged']).first().reset_index(drop=False)"
   ]
  },
  {
   "cell_type": "code",
   "execution_count": 34,
   "id": "7ac11102",
   "metadata": {},
   "outputs": [
    {
     "data": {
      "text/plain": [
       "0.0    16801\n",
       "4.0     8185\n",
       "2.0     5600\n",
       "5.0     3924\n",
       "1.0     2352\n",
       "3.0      661\n",
       "Name: class_status, dtype: int64"
      ]
     },
     "execution_count": 34,
     "metadata": {},
     "output_type": "execute_result"
    }
   ],
   "source": [
    "final.class_status.value_counts()"
   ]
  },
  {
   "cell_type": "code",
   "execution_count": 35,
   "id": "b59af5af",
   "metadata": {},
   "outputs": [
    {
     "name": "stdout",
     "output_type": "stream",
     "text": [
      "<class 'pandas.core.frame.DataFrame'>\n",
      "RangeIndex: 37452 entries, 0 to 37451\n",
      "Data columns (total 34 columns):\n",
      " #   Column                    Non-Null Count  Dtype         \n",
      "---  ------                    --------------  -----         \n",
      " 0   dfci_mrn                  37452 non-null  float64       \n",
      " 1   cancer_type               37452 non-null  object        \n",
      " 2   image_scan_type           37452 non-null  float64       \n",
      " 3   date                      37452 non-null  datetime64[ns]\n",
      " 4   head_imaged               37452 non-null  float64       \n",
      " 5   neck_imaged               37452 non-null  float64       \n",
      " 6   spine_imaged              37452 non-null  float64       \n",
      " 7   chest_imaged              37452 non-null  float64       \n",
      " 8   abdomen_imaged            37452 non-null  float64       \n",
      " 9   pelvis_imaged             37452 non-null  float64       \n",
      " 10  any_cancer                37452 non-null  int64         \n",
      " 11  progression               37452 non-null  int64         \n",
      " 12  response                  37452 non-null  int64         \n",
      " 13  class_status              37439 non-null  float64       \n",
      " 14  brain_met                 37452 non-null  float64       \n",
      " 15  bone_met                  37452 non-null  float64       \n",
      " 16  adrenal_met               37452 non-null  float64       \n",
      " 17  liver_met                 37452 non-null  float64       \n",
      " 18  lung_met                  37452 non-null  float64       \n",
      " 19  node_met                  37452 non-null  int64         \n",
      " 20  peritoneal_met            37452 non-null  float64       \n",
      " 21  extremity_imaged          37452 non-null  float64       \n",
      " 22  whole_body_imaged         37452 non-null  float64       \n",
      " 23  Unnamed: 0                37452 non-null  int64         \n",
      " 24  text                      37452 non-null  object        \n",
      " 25  impression_text           27200 non-null  object        \n",
      " 26  scan_type                 37452 non-null  object        \n",
      " 27  patient_id                37452 non-null  int64         \n",
      " 28  hybrid_death_ind          37452 non-null  object        \n",
      " 29  hybrid_death_dt           24314 non-null  object        \n",
      " 30  primary_cancer_diagnosis  37452 non-null  object        \n",
      " 31  genomics_date             37452 non-null  object        \n",
      " 32  after_profile             37452 non-null  int64         \n",
      " 33  split                     37452 non-null  object        \n",
      "dtypes: datetime64[ns](1), float64(17), int64(7), object(9)\n",
      "memory usage: 9.7+ MB\n",
      "None\n",
      "\n"
     ]
    }
   ],
   "source": [
    "# drop duplicate reports; the most common reason for this was a CT chest/abdomen/pelvis with identical interpretations entered for the chest and the abdomen/pelvis\n",
    "final = final.drop_duplicates(subset='text').reset_index(drop=True)\n",
    "print(final.info())\n",
    "print()"
   ]
  },
  {
   "cell_type": "code",
   "execution_count": 36,
   "id": "f6e28b90",
   "metadata": {},
   "outputs": [
    {
     "name": "stdout",
     "output_type": "stream",
     "text": [
      "<class 'pandas.core.frame.DataFrame'>\n",
      "Int64Index: 37274 entries, 0 to 37451\n",
      "Data columns (total 34 columns):\n",
      " #   Column                    Non-Null Count  Dtype         \n",
      "---  ------                    --------------  -----         \n",
      " 0   dfci_mrn                  37274 non-null  float64       \n",
      " 1   cancer_type               37274 non-null  object        \n",
      " 2   image_scan_type           37274 non-null  float64       \n",
      " 3   date                      37274 non-null  datetime64[ns]\n",
      " 4   head_imaged               37274 non-null  float64       \n",
      " 5   neck_imaged               37274 non-null  float64       \n",
      " 6   spine_imaged              37274 non-null  float64       \n",
      " 7   chest_imaged              37274 non-null  float64       \n",
      " 8   abdomen_imaged            37274 non-null  float64       \n",
      " 9   pelvis_imaged             37274 non-null  float64       \n",
      " 10  any_cancer                37274 non-null  int64         \n",
      " 11  progression               37274 non-null  int64         \n",
      " 12  response                  37274 non-null  int64         \n",
      " 13  class_status              37261 non-null  float64       \n",
      " 14  brain_met                 37274 non-null  float64       \n",
      " 15  bone_met                  37274 non-null  float64       \n",
      " 16  adrenal_met               37274 non-null  float64       \n",
      " 17  liver_met                 37274 non-null  float64       \n",
      " 18  lung_met                  37274 non-null  float64       \n",
      " 19  node_met                  37274 non-null  int64         \n",
      " 20  peritoneal_met            37274 non-null  float64       \n",
      " 21  extremity_imaged          37274 non-null  float64       \n",
      " 22  whole_body_imaged         37274 non-null  float64       \n",
      " 23  Unnamed: 0                37274 non-null  int64         \n",
      " 24  text                      37274 non-null  object        \n",
      " 25  impression_text           27176 non-null  object        \n",
      " 26  scan_type                 37274 non-null  object        \n",
      " 27  patient_id                37274 non-null  int64         \n",
      " 28  hybrid_death_ind          37274 non-null  object        \n",
      " 29  hybrid_death_dt           24152 non-null  object        \n",
      " 30  primary_cancer_diagnosis  37274 non-null  object        \n",
      " 31  genomics_date             37274 non-null  object        \n",
      " 32  after_profile             37274 non-null  int64         \n",
      " 33  split                     37274 non-null  object        \n",
      "dtypes: datetime64[ns](1), float64(17), int64(7), object(9)\n",
      "memory usage: 10.0+ MB\n",
      "None\n"
     ]
    }
   ],
   "source": [
    "# drop 'reports' of outside scans, which just indicate that the scan was performed but do not contain useful text\n",
    "final = final[~final['text'].str.contains(\"It has been imported\")]\n",
    "print(final.info())"
   ]
  },
  {
   "cell_type": "code",
   "execution_count": 37,
   "id": "81f4e99d",
   "metadata": {},
   "outputs": [
    {
     "data": {
      "text/plain": [
       "nsclc_phase2_existing    9954\n",
       "crc                      6478\n",
       "breast                   6066\n",
       "prostate                 5106\n",
       "pancreas                 3423\n",
       "bladder                  3261\n",
       "rcc_barkouny             2986\n",
       "Name: cancer_type, dtype: int64"
      ]
     },
     "execution_count": 37,
     "metadata": {},
     "output_type": "execute_result"
    }
   ],
   "source": [
    "final.cancer_type.value_counts()"
   ]
  },
  {
   "cell_type": "code",
   "execution_count": 38,
   "id": "f53dd170",
   "metadata": {},
   "outputs": [
    {
     "data": {
      "text/plain": [
       "crc                      629\n",
       "nsclc_phase2_existing    614\n",
       "prostate                 480\n",
       "rcc_barkouny             412\n",
       "pancreas                 402\n",
       "breast                   368\n",
       "bladder                  308\n",
       "Name: cancer_type, dtype: int64"
      ]
     },
     "execution_count": 38,
     "metadata": {},
     "output_type": "execute_result"
    }
   ],
   "source": [
    "final.groupby('dfci_mrn').first().cancer_type.value_counts()"
   ]
  },
  {
   "cell_type": "code",
   "execution_count": 39,
   "id": "485908db",
   "metadata": {},
   "outputs": [],
   "source": [
    "final.to_csv(prefix+'profile_3-2023/derived_data/labeled_imaging_prissmm.csv')"
   ]
  },
  {
   "cell_type": "code",
   "execution_count": 40,
   "id": "7bcc2702",
   "metadata": {},
   "outputs": [
    {
     "name": "stdout",
     "output_type": "stream",
     "text": [
      "<class 'pandas.core.frame.DataFrame'>\n",
      "Int64Index: 37274 entries, 0 to 37451\n",
      "Data columns (total 34 columns):\n",
      " #   Column                    Non-Null Count  Dtype         \n",
      "---  ------                    --------------  -----         \n",
      " 0   dfci_mrn                  37274 non-null  float64       \n",
      " 1   cancer_type               37274 non-null  object        \n",
      " 2   image_scan_type           37274 non-null  float64       \n",
      " 3   date                      37274 non-null  datetime64[ns]\n",
      " 4   head_imaged               37274 non-null  float64       \n",
      " 5   neck_imaged               37274 non-null  float64       \n",
      " 6   spine_imaged              37274 non-null  float64       \n",
      " 7   chest_imaged              37274 non-null  float64       \n",
      " 8   abdomen_imaged            37274 non-null  float64       \n",
      " 9   pelvis_imaged             37274 non-null  float64       \n",
      " 10  any_cancer                37274 non-null  int64         \n",
      " 11  progression               37274 non-null  int64         \n",
      " 12  response                  37274 non-null  int64         \n",
      " 13  class_status              37261 non-null  float64       \n",
      " 14  brain_met                 37274 non-null  float64       \n",
      " 15  bone_met                  37274 non-null  float64       \n",
      " 16  adrenal_met               37274 non-null  float64       \n",
      " 17  liver_met                 37274 non-null  float64       \n",
      " 18  lung_met                  37274 non-null  float64       \n",
      " 19  node_met                  37274 non-null  int64         \n",
      " 20  peritoneal_met            37274 non-null  float64       \n",
      " 21  extremity_imaged          37274 non-null  float64       \n",
      " 22  whole_body_imaged         37274 non-null  float64       \n",
      " 23  Unnamed: 0                37274 non-null  int64         \n",
      " 24  text                      37274 non-null  object        \n",
      " 25  impression_text           27176 non-null  object        \n",
      " 26  scan_type                 37274 non-null  object        \n",
      " 27  patient_id                37274 non-null  int64         \n",
      " 28  hybrid_death_ind          37274 non-null  object        \n",
      " 29  hybrid_death_dt           24152 non-null  object        \n",
      " 30  primary_cancer_diagnosis  37274 non-null  object        \n",
      " 31  genomics_date             37274 non-null  object        \n",
      " 32  after_profile             37274 non-null  int64         \n",
      " 33  split                     37274 non-null  object        \n",
      "dtypes: datetime64[ns](1), float64(17), int64(7), object(9)\n",
      "memory usage: 10.0+ MB\n"
     ]
    }
   ],
   "source": [
    "final.info()"
   ]
  },
  {
   "cell_type": "code",
   "execution_count": 41,
   "id": "e7edfc91",
   "metadata": {},
   "outputs": [],
   "source": [
    "profile_consents = pd.read_csv(prefix+'profile_3-2023/structured_data/REQ_KK71_105304_2_PROFILE_CONSENT.csv', low_memory=False)\n",
    "profile_consents = profile_consents[~profile_consents.DRIVING_PROTOCOL_NBR.isnull()]\n",
    "profile_consents = profile_consents[profile_consents.DATA_SHARING == 'Y']"
   ]
  },
  {
   "cell_type": "code",
   "execution_count": 62,
   "id": "072ad4ef",
   "metadata": {},
   "outputs": [],
   "source": [
    "final_consented = final[final.dfci_mrn.isin(profile_consents.DFCI_MRN)]"
   ]
  },
  {
   "cell_type": "code",
   "execution_count": 63,
   "id": "14852150",
   "metadata": {},
   "outputs": [
    {
     "name": "stdout",
     "output_type": "stream",
     "text": [
      "<class 'pandas.core.frame.DataFrame'>\n",
      "Int64Index: 34358 entries, 0 to 36727\n",
      "Data columns (total 34 columns):\n",
      " #   Column                    Non-Null Count  Dtype         \n",
      "---  ------                    --------------  -----         \n",
      " 0   dfci_mrn                  34358 non-null  float64       \n",
      " 1   cancer_type               34358 non-null  object        \n",
      " 2   image_scan_type           34358 non-null  float64       \n",
      " 3   date                      34358 non-null  datetime64[ns]\n",
      " 4   head_imaged               34358 non-null  float64       \n",
      " 5   neck_imaged               34358 non-null  float64       \n",
      " 6   spine_imaged              34358 non-null  float64       \n",
      " 7   chest_imaged              34358 non-null  float64       \n",
      " 8   abdomen_imaged            34358 non-null  float64       \n",
      " 9   pelvis_imaged             34358 non-null  float64       \n",
      " 10  any_cancer                34358 non-null  int32         \n",
      " 11  progression               34358 non-null  int32         \n",
      " 12  response                  34358 non-null  int32         \n",
      " 13  class_status              34345 non-null  float64       \n",
      " 14  brain_met                 34358 non-null  float64       \n",
      " 15  bone_met                  34358 non-null  float64       \n",
      " 16  adrenal_met               34358 non-null  float64       \n",
      " 17  liver_met                 34358 non-null  float64       \n",
      " 18  lung_met                  34358 non-null  float64       \n",
      " 19  node_met                  34358 non-null  int32         \n",
      " 20  peritoneal_met            34358 non-null  float64       \n",
      " 21  extremity_imaged          34358 non-null  float64       \n",
      " 22  whole_body_imaged         34358 non-null  float64       \n",
      " 23  Unnamed: 0                34358 non-null  int64         \n",
      " 24  text                      34358 non-null  object        \n",
      " 25  impression_text           25273 non-null  object        \n",
      " 26  scan_type                 34358 non-null  object        \n",
      " 27  patient_id                34358 non-null  int64         \n",
      " 28  hybrid_death_ind          34358 non-null  object        \n",
      " 29  hybrid_death_dt           22231 non-null  object        \n",
      " 30  primary_cancer_diagnosis  34358 non-null  object        \n",
      " 31  genomics_date             34358 non-null  object        \n",
      " 32  after_profile             34358 non-null  int64         \n",
      " 33  split                     34358 non-null  object        \n",
      "dtypes: datetime64[ns](1), float64(17), int32(4), int64(3), object(9)\n",
      "memory usage: 8.7+ MB\n"
     ]
    }
   ],
   "source": [
    "final_consented.info()"
   ]
  },
  {
   "cell_type": "code",
   "execution_count": 64,
   "id": "7e2397a0",
   "metadata": {},
   "outputs": [],
   "source": [
    "final_consented.to_csv(prefix+'profile_3-2023/derived_data/labeled_imaging_prissmm_profile_consented.csv')"
   ]
  },
  {
   "cell_type": "code",
   "execution_count": null,
   "id": "d2dea59b",
   "metadata": {},
   "outputs": [],
   "source": []
  }
 ],
 "metadata": {
  "kernelspec": {
   "display_name": "Python 3 (ipykernel)",
   "language": "python",
   "name": "python3"
  },
  "language_info": {
   "codemirror_mode": {
    "name": "ipython",
    "version": 3
   },
   "file_extension": ".py",
   "mimetype": "text/x-python",
   "name": "python",
   "nbconvert_exporter": "python",
   "pygments_lexer": "ipython3",
   "version": "3.10.10"
  }
 },
 "nbformat": 4,
 "nbformat_minor": 5
}
