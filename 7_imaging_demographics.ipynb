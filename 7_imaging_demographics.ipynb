{
 "cells": [
  {
   "cell_type": "code",
   "execution_count": null,
   "id": "d3c60d7c-f466-4806-af6c-288df4467c1e",
   "metadata": {},
   "outputs": [],
   "source": [
    "# this notebook just calculates basic demographics for the DFCI cohort for imaging reports"
   ]
  },
  {
   "cell_type": "code",
   "execution_count": 32,
   "id": "4c2b834c-8b0d-4ad4-86bc-7bdbc2252ff9",
   "metadata": {},
   "outputs": [],
   "source": [
    "import numpy as np\n",
    "import pandas as pd"
   ]
  },
  {
   "cell_type": "code",
   "execution_count": 33,
   "id": "9d88a4c4-1955-404d-9e97-2defd278593d",
   "metadata": {},
   "outputs": [],
   "source": [
    "prefix = '/mnt/d/Dropbox (Partners Healthcare)/'\n",
    "pt_dataset_list = []\n",
    "for cancer_type in ['nsclc_phase2_existing','crc','breast','pancreas','bladder','prostate']:\n",
    "    pts = pd.read_csv(prefix+'profile_3-2023/redcaps/' + cancer_type + '_ptchars.csv', low_memory=False)[['record_id','internal_mrn','genie_patient_id']]\n",
    "    pts = pts.sort_values(by=['record_id','internal_mrn']).reset_index(drop=True)\n",
    "    pts = pts.groupby('internal_mrn').first().reset_index(drop=False).rename(columns={'internal_mrn':'dfci_mrn'})\n",
    "    pts['cancer_type'] = cancer_type\n",
    "    pts = pts[['dfci_mrn','genie_patient_id','cancer_type']]\n",
    "    pt_dataset_list.append(pts)\n",
    "\n",
    "\n",
    "pt_dataset = pd.concat(pt_dataset_list, axis=0)\n",
    "\n",
    "pt_dataset = pt_dataset.groupby('dfci_mrn').first().reset_index()"
   ]
  },
  {
   "cell_type": "code",
   "execution_count": 35,
   "id": "ca0dd184-5c4c-4c07-9b31-cfeb615ef1ac",
   "metadata": {},
   "outputs": [
    {
     "name": "stdout",
     "output_type": "stream",
     "text": [
      "<class 'pandas.core.frame.DataFrame'>\n",
      "RangeIndex: 6124 entries, 0 to 6123\n",
      "Data columns (total 3 columns):\n",
      " #   Column            Non-Null Count  Dtype  \n",
      "---  ------            --------------  -----  \n",
      " 0   dfci_mrn          6124 non-null   float64\n",
      " 1   genie_patient_id  6091 non-null   object \n",
      " 2   cancer_type       6124 non-null   object \n",
      "dtypes: float64(1), object(2)\n",
      "memory usage: 143.7+ KB\n"
     ]
    }
   ],
   "source": [
    "pt_dataset.info()"
   ]
  },
  {
   "cell_type": "code",
   "execution_count": 72,
   "id": "0b99323d-2702-4e08-976f-9702146e3c3f",
   "metadata": {},
   "outputs": [],
   "source": [
    "prefix = '/mnt/d/Dropbox (Partners Healthcare)/profile_3-2023/'\n",
    "\n",
    "specimens = pd.read_csv(prefix+'structured_data/REQ_KK71_105304_2_GENOMIC_SPECIMEN.csv', encoding='ISO-8859-1', low_memory=False)\n",
    "specimens = specimens[['DFCI_MRN', 'TEST_ORDER_DT']]\n",
    "specimens['TEST_ORDER_DT'] = pd.to_datetime(specimens.TEST_ORDER_DT)\n",
    "specimens = specimens.sort_values(by=['DFCI_MRN','TEST_ORDER_DT']).groupby('DFCI_MRN').first().reset_index()\n"
   ]
  },
  {
   "cell_type": "code",
   "execution_count": 73,
   "id": "33176607-65b1-4408-85b4-d94d368e3205",
   "metadata": {},
   "outputs": [
    {
     "name": "stdout",
     "output_type": "stream",
     "text": [
      "<class 'pandas.core.frame.DataFrame'>\n",
      "RangeIndex: 52058 entries, 0 to 52057\n",
      "Data columns (total 2 columns):\n",
      " #   Column         Non-Null Count  Dtype         \n",
      "---  ------         --------------  -----         \n",
      " 0   DFCI_MRN       52058 non-null  int64         \n",
      " 1   TEST_ORDER_DT  52058 non-null  datetime64[ns]\n",
      "dtypes: datetime64[ns](1), int64(1)\n",
      "memory usage: 813.5 KB\n"
     ]
    }
   ],
   "source": [
    "specimens.info()"
   ]
  },
  {
   "cell_type": "code",
   "execution_count": null,
   "id": "c752066b-4cb4-4e13-a6e9-437afca09e50",
   "metadata": {},
   "outputs": [],
   "source": []
  },
  {
   "cell_type": "code",
   "execution_count": 38,
   "id": "0a9130f7-47cb-475c-8415-9810f90907a8",
   "metadata": {},
   "outputs": [],
   "source": [
    "#no_genie = pt_dataset[pt_dataset.genie_patient_id.isnull()]"
   ]
  },
  {
   "cell_type": "code",
   "execution_count": 39,
   "id": "c83d687a-e65e-422f-ad14-02fb76c7d210",
   "metadata": {},
   "outputs": [],
   "source": [
    "#reports[reports.dfci_mrn.isin(no_genie.dfci_mrn)].any_cancer.value_counts()"
   ]
  },
  {
   "cell_type": "code",
   "execution_count": 40,
   "id": "e035bb88-1762-44d9-bbb7-73f45ba20e5c",
   "metadata": {},
   "outputs": [],
   "source": [
    "#no_genie.cancer_type.value_counts()"
   ]
  },
  {
   "cell_type": "code",
   "execution_count": 41,
   "id": "5218c71e-0a31-4650-988a-92e5094a1f14",
   "metadata": {},
   "outputs": [],
   "source": [
    "#pt_dataset.genie_patient_id.nunique()"
   ]
  },
  {
   "cell_type": "code",
   "execution_count": null,
   "id": "6566aa13-a9df-49f8-a12a-6815a2b6d942",
   "metadata": {},
   "outputs": [],
   "source": []
  },
  {
   "cell_type": "code",
   "execution_count": null,
   "id": "671c1d8a-0ada-4893-ad51-00332d74f191",
   "metadata": {},
   "outputs": [],
   "source": [
    "registration = pd.read_csv(prefix+'structured_data/REQ_KK71_105304_2_PT_INFO_STATUS_REGISTRATION.csv', sep=',', encoding='iso-8859-1', low_memory=False)\n",
    "registration = registration.groupby('DFCI_MRN').first().reset_index()\n",
    "registration = registration[['DFCI_MRN','GENDER_NM','BIRTH_DT']]\n",
    "registration['BIRTH_DT'] = pd.to_datetime(registration.BIRTH_DT)\n",
    "\n",
    "registration = pd.merge(registration, specimens, on='DFCI_MRN')\n",
    "registration['age_at_sequencing'] = (registration.TEST_ORDER_DT - registration.BIRTH_DT) / np.timedelta64(1, 'Y')\n",
    "#registration.head()"
   ]
  },
  {
   "cell_type": "code",
   "execution_count": 78,
   "id": "94e979aa-2337-40ac-a096-e514b1b21ac4",
   "metadata": {},
   "outputs": [
    {
     "name": "stdout",
     "output_type": "stream",
     "text": [
      "<class 'pandas.core.frame.DataFrame'>\n",
      "RangeIndex: 56869 entries, 0 to 56868\n",
      "Data columns (total 35 columns):\n",
      " #   Column                         Non-Null Count  Dtype  \n",
      "---  ------                         --------------  -----  \n",
      " 0   DFCI_MRN                       56869 non-null  int64  \n",
      " 1   DR_REQUEST_SEQ                 56869 non-null  int64  \n",
      " 2   PATIENT_ID                     56869 non-null  int64  \n",
      " 3   SRC_DIM_SEQ                    56869 non-null  int64  \n",
      " 4   MARITAL_STATUS_NM              56869 non-null  object \n",
      " 5   RELIGION_NM                    56869 non-null  object \n",
      " 6   EDUCATION_LEVEL_NM             56869 non-null  object \n",
      " 7   BIRTHPLACE_NM                  52541 non-null  object \n",
      " 8   PRIM_LANG_NM                   56869 non-null  object \n",
      " 9   WRITTEN_LANG_NM                56869 non-null  object \n",
      " 10  ETHNICITY_1_NM                 56837 non-null  object \n",
      " 11  ETHNICITY_2_NM                 4744 non-null   object \n",
      " 12  ETHNICITY_3_NM                 490 non-null    object \n",
      " 13  HISPANIC_IND                   56869 non-null  object \n",
      " 14  RACE_WHITE_IND                 56869 non-null  object \n",
      " 15  RACE_BLACK_IND                 56869 non-null  object \n",
      " 16  RACE_ASIAN_IND                 56869 non-null  object \n",
      " 17  RACE_AM_INDIAN_ALASKAN_IND     56869 non-null  object \n",
      " 18  RACE_NAT_HAWAIIAN_PACIFIC_IND  56869 non-null  object \n",
      " 19  RACE_UNKNOWN_IND               56869 non-null  object \n",
      " 20  RACE_OTHER_IND                 56869 non-null  object \n",
      " 21  IDM_RACE_NM                    56869 non-null  object \n",
      " 22  HOME_CITY_NM                   56864 non-null  object \n",
      " 23  HOME_STATE_PROVINCE_NM         56783 non-null  object \n",
      " 24  HOME_ZIP_CD                    56779 non-null  object \n",
      " 25  HOME_COUNTRY_NM                56862 non-null  object \n",
      " 26  OCCUPATION_FREE_TEXT           4401 non-null   object \n",
      " 27  EMPLOYMENT_STATUS_NM           40090 non-null  object \n",
      " 28  TRANSPLANT_IND                 54661 non-null  object \n",
      " 29  INTERPRETER_REQUIRED_IND       55918 non-null  object \n",
      " 30  SRC_NM                         56869 non-null  object \n",
      " 31  SRC_INST                       56869 non-null  object \n",
      " 32  SOURCE_EXTRACT_DTTM            56869 non-null  object \n",
      " 33  RECORD_CREATE_DT               56869 non-null  object \n",
      " 34  Unnamed: 34                    0 non-null      float64\n",
      "dtypes: float64(1), int64(4), object(30)\n",
      "memory usage: 15.2+ MB\n"
     ]
    }
   ],
   "source": [
    "demographics = pd.read_csv(prefix+'structured_data/REQ_KK71_105304_2_DEMOGRAPHICS_REGISTRATION.csv', sep=',', encoding='iso-8859-1', low_memory=False)\n",
    "demographics = demographics.groupby('DFCI_MRN').first().reset_index()\n",
    "demographics.info()"
   ]
  },
  {
   "cell_type": "code",
   "execution_count": 79,
   "id": "cdac5a73-3770-467f-a9ec-1a03e7ee864d",
   "metadata": {},
   "outputs": [],
   "source": [
    "demographics['race'] = np.select([\n",
    "    demographics.RACE_NAT_HAWAIIAN_PACIFIC_IND == 'Y',\n",
    "    demographics.RACE_AM_INDIAN_ALASKAN_IND == 'Y',\n",
    "    demographics.RACE_BLACK_IND == 'Y',\n",
    "    demographics.RACE_ASIAN_IND == 'Y',\n",
    "    demographics.RACE_WHITE_IND == 'Y'],\n",
    "    ['Native Hawaiian/Pacific Islander',\n",
    "     'American Indian/Alaskan',\n",
    "     'Black',\n",
    "     'Asian',\n",
    "     'White'],\n",
    "     'Other/unknown')\n",
    "\n",
    "demographics = demographics[['DFCI_MRN','race','HISPANIC_IND']]"
   ]
  },
  {
   "cell_type": "code",
   "execution_count": 80,
   "id": "dc0af123-1711-43bd-a638-094db2a96bd3",
   "metadata": {},
   "outputs": [],
   "source": [
    "demographics = pd.merge(demographics, registration, on='DFCI_MRN')"
   ]
  },
  {
   "cell_type": "code",
   "execution_count": 82,
   "id": "6ea95497-1e5b-48ae-9287-0513045a2c4f",
   "metadata": {},
   "outputs": [
    {
     "data": {
      "text/plain": [
       "FEMALE     27226\n",
       "MALE       24830\n",
       "UNKNOWN        2\n",
       "Name: GENDER_NM, dtype: int64"
      ]
     },
     "execution_count": 82,
     "metadata": {},
     "output_type": "execute_result"
    }
   ],
   "source": [
    "demographics.GENDER_NM.value_counts()"
   ]
  },
  {
   "cell_type": "code",
   "execution_count": 90,
   "id": "d97266a7-2b91-4ad7-a9c2-ae817e991e9d",
   "metadata": {},
   "outputs": [],
   "source": [
    "demographics = demographics.rename(columns={'DFCI_MRN':'dfci_mrn'})"
   ]
  },
  {
   "cell_type": "code",
   "execution_count": null,
   "id": "d1223132-bbe5-4dfd-bd14-3f547831c104",
   "metadata": {},
   "outputs": [],
   "source": [
    "#demographics.head()"
   ]
  },
  {
   "cell_type": "code",
   "execution_count": 105,
   "id": "75cd0859-ed70-4639-a72d-b0d1dcb4164a",
   "metadata": {},
   "outputs": [],
   "source": [
    "demographics['agecat'] = np.select([\n",
    "    demographics.age_at_sequencing < 30,\n",
    "    demographics.age_at_sequencing < 40,\n",
    "    demographics.age_at_sequencing < 50,\n",
    "    demographics.age_at_sequencing < 60,\n",
    "    demographics.age_at_sequencing < 70,\n",
    "    demographics.age_at_sequencing < 80,\n",
    "    True\n",
    "],\n",
    "    ['< 30',\n",
    "     '30-39',\n",
    "     '40-49',\n",
    "     '50-59',\n",
    "     '60-69',\n",
    "     '70-79',\n",
    "     '80+'])"
   ]
  },
  {
   "cell_type": "code",
   "execution_count": 107,
   "id": "23b83ff4-042e-4def-945a-c88f2ee2ff9b",
   "metadata": {},
   "outputs": [],
   "source": [
    "reports = pd.read_csv('/mnt/d/Dropbox (Partners HealthCare)/profile_3-2023/derived_data/labeled_imaging_prissmm.csv')"
   ]
  },
  {
   "cell_type": "code",
   "execution_count": 108,
   "id": "b5d6e8ca-eb2a-4946-bc98-ec856035e680",
   "metadata": {},
   "outputs": [],
   "source": [
    "reports = pd.merge(reports, demographics, on='dfci_mrn')"
   ]
  },
  {
   "cell_type": "code",
   "execution_count": 109,
   "id": "2772d8ff-3922-4dc3-8d4d-19a3dba26327",
   "metadata": {},
   "outputs": [],
   "source": [
    "# mixed response counts as progression\n",
    "reports['progression'] = np.where(reports.class_status==3,1,reports.progression)"
   ]
  },
  {
   "cell_type": "code",
   "execution_count": 110,
   "id": "fcb3ec88-e8d6-4846-a345-f6b2a24d0e95",
   "metadata": {},
   "outputs": [
    {
     "name": "stdout",
     "output_type": "stream",
     "text": [
      "<class 'pandas.core.frame.DataFrame'>\n",
      "Int64Index: 37274 entries, 0 to 37273\n",
      "Data columns (total 42 columns):\n",
      " #   Column                    Non-Null Count  Dtype         \n",
      "---  ------                    --------------  -----         \n",
      " 0   Unnamed: 0.1              37274 non-null  int64         \n",
      " 1   dfci_mrn                  37274 non-null  float64       \n",
      " 2   cancer_type               37274 non-null  object        \n",
      " 3   image_scan_type           37274 non-null  float64       \n",
      " 4   date                      37274 non-null  object        \n",
      " 5   head_imaged               37274 non-null  float64       \n",
      " 6   neck_imaged               37274 non-null  float64       \n",
      " 7   spine_imaged              37274 non-null  float64       \n",
      " 8   chest_imaged              37274 non-null  float64       \n",
      " 9   abdomen_imaged            37274 non-null  float64       \n",
      " 10  pelvis_imaged             37274 non-null  float64       \n",
      " 11  any_cancer                37274 non-null  int64         \n",
      " 12  progression               37274 non-null  int64         \n",
      " 13  response                  37274 non-null  int64         \n",
      " 14  class_status              37261 non-null  float64       \n",
      " 15  brain_met                 37274 non-null  float64       \n",
      " 16  bone_met                  37274 non-null  float64       \n",
      " 17  adrenal_met               37274 non-null  float64       \n",
      " 18  liver_met                 37274 non-null  float64       \n",
      " 19  lung_met                  37274 non-null  float64       \n",
      " 20  node_met                  37274 non-null  int64         \n",
      " 21  peritoneal_met            37274 non-null  float64       \n",
      " 22  extremity_imaged          37274 non-null  float64       \n",
      " 23  whole_body_imaged         37274 non-null  float64       \n",
      " 24  Unnamed: 0                37274 non-null  int64         \n",
      " 25  text                      37274 non-null  object        \n",
      " 26  impression_text           27176 non-null  object        \n",
      " 27  scan_type                 37274 non-null  object        \n",
      " 28  patient_id                37274 non-null  int64         \n",
      " 29  hybrid_death_ind          37274 non-null  object        \n",
      " 30  hybrid_death_dt           24152 non-null  object        \n",
      " 31  primary_cancer_diagnosis  37274 non-null  object        \n",
      " 32  genomics_date             37274 non-null  object        \n",
      " 33  after_profile             37274 non-null  int64         \n",
      " 34  split                     37274 non-null  object        \n",
      " 35  race                      37274 non-null  object        \n",
      " 36  HISPANIC_IND              37274 non-null  object        \n",
      " 37  GENDER_NM                 37274 non-null  object        \n",
      " 38  BIRTH_DT                  37274 non-null  datetime64[ns]\n",
      " 39  TEST_ORDER_DT             37274 non-null  datetime64[ns]\n",
      " 40  age_at_sequencing         37274 non-null  float64       \n",
      " 41  agecat                    37274 non-null  object        \n",
      "dtypes: datetime64[ns](2), float64(18), int64(8), object(14)\n",
      "memory usage: 12.2+ MB\n"
     ]
    }
   ],
   "source": [
    "\n",
    "reports.info()"
   ]
  },
  {
   "cell_type": "code",
   "execution_count": null,
   "id": "ef8bdb91-c9df-4f35-b04c-94eaa0b53b52",
   "metadata": {},
   "outputs": [],
   "source": []
  },
  {
   "cell_type": "code",
   "execution_count": 111,
   "id": "ccff1efa-bcaa-4309-9ee9-5c85659fa1e0",
   "metadata": {},
   "outputs": [
    {
     "data": {
      "text/plain": [
       "1.0     22677\n",
       "3.0      7613\n",
       "7.0      3405\n",
       "5.0      2889\n",
       "11.0      690\n",
       "Name: image_scan_type, dtype: int64"
      ]
     },
     "execution_count": 111,
     "metadata": {},
     "output_type": "execute_result"
    }
   ],
   "source": [
    "reports.image_scan_type.value_counts()"
   ]
  },
  {
   "cell_type": "code",
   "execution_count": 120,
   "id": "b168808d-baaa-4f81-a950-d070b1b0b064",
   "metadata": {},
   "outputs": [
    {
     "data": {
      "text/plain": [
       "(37274, 42)"
      ]
     },
     "execution_count": 120,
     "metadata": {},
     "output_type": "execute_result"
    }
   ],
   "source": [
    "report_demographics = reports.copy()\n",
    "report_demographics.shape"
   ]
  },
  {
   "cell_type": "code",
   "execution_count": 121,
   "id": "4271fc9a-cab0-4a94-9c5e-8baaf8b72c7b",
   "metadata": {},
   "outputs": [
    {
     "data": {
      "text/plain": [
       "(3213, 41)"
      ]
     },
     "execution_count": 121,
     "metadata": {},
     "output_type": "execute_result"
    }
   ],
   "source": [
    "report_demographics.groupby('dfci_mrn').first().shape"
   ]
  },
  {
   "cell_type": "code",
   "execution_count": 123,
   "id": "7f5e4760-2164-454f-b33d-a73cd1a711ff",
   "metadata": {},
   "outputs": [
    {
     "name": "stdout",
     "output_type": "stream",
     "text": [
      "document level\n",
      "GENDER_NM\n",
      "MALE      18967\n",
      "FEMALE    18307\n",
      "Name: GENDER_NM, dtype: int64\n",
      "MALE      0.508853\n",
      "FEMALE    0.491147\n",
      "Name: GENDER_NM, dtype: float64\n",
      "\n",
      "\n",
      "document level\n",
      "race\n",
      "White                      33532\n",
      "Black                       1311\n",
      "Asian                       1300\n",
      "Other/unknown               1096\n",
      "American Indian/Alaskan       35\n",
      "Name: race, dtype: int64\n",
      "White                      0.899608\n",
      "Black                      0.035172\n",
      "Asian                      0.034877\n",
      "Other/unknown              0.029404\n",
      "American Indian/Alaskan    0.000939\n",
      "Name: race, dtype: float64\n",
      "\n",
      "\n",
      "document level\n",
      "HISPANIC_IND\n",
      "N    36415\n",
      "Y      859\n",
      "Name: HISPANIC_IND, dtype: int64\n",
      "N    0.976954\n",
      "Y    0.023046\n",
      "Name: HISPANIC_IND, dtype: float64\n",
      "\n",
      "\n",
      "document level\n",
      "agecat\n",
      "60-69    11129\n",
      "50-59     9538\n",
      "70-79     7464\n",
      "40-49     5177\n",
      "80+       2003\n",
      "30-39     1700\n",
      "< 30       263\n",
      "Name: agecat, dtype: int64\n",
      "60-69    0.298573\n",
      "50-59    0.255889\n",
      "70-79    0.200247\n",
      "40-49    0.138890\n",
      "80+      0.053737\n",
      "30-39    0.045608\n",
      "< 30     0.007056\n",
      "Name: agecat, dtype: float64\n",
      "\n",
      "\n",
      "document level\n",
      "cancer_type\n",
      "nsclc_phase2_existing    9954\n",
      "crc                      6478\n",
      "breast                   6066\n",
      "prostate                 5106\n",
      "pancreas                 3423\n",
      "bladder                  3261\n",
      "rcc_barkouny             2986\n",
      "Name: cancer_type, dtype: int64\n",
      "nsclc_phase2_existing    0.267049\n",
      "crc                      0.173794\n",
      "breast                   0.162741\n",
      "prostate                 0.136986\n",
      "pancreas                 0.091833\n",
      "bladder                  0.087487\n",
      "rcc_barkouny             0.080109\n",
      "Name: cancer_type, dtype: float64\n",
      "\n",
      "\n",
      "document level\n",
      "any_cancer\n",
      "1    20599\n",
      "0    16675\n",
      "Name: any_cancer, dtype: int64\n",
      "1    0.552637\n",
      "0    0.447363\n",
      "Name: any_cancer, dtype: float64\n",
      "\n",
      "\n",
      "document level\n",
      "progression\n",
      "0    28491\n",
      "1     8783\n",
      "Name: progression, dtype: int64\n",
      "0    0.764367\n",
      "1    0.235633\n",
      "Name: progression, dtype: float64\n",
      "\n",
      "\n",
      "document level\n",
      "response\n",
      "0    34932\n",
      "1     2342\n",
      "Name: response, dtype: int64\n",
      "0    0.937168\n",
      "1    0.062832\n",
      "Name: response, dtype: float64\n",
      "\n",
      "\n",
      "document level\n",
      "brain_met\n",
      "0.0    34625\n",
      "1.0     2649\n",
      "Name: brain_met, dtype: int64\n",
      "0.0    0.928932\n",
      "1.0    0.071068\n",
      "Name: brain_met, dtype: float64\n",
      "\n",
      "\n",
      "document level\n",
      "bone_met\n",
      "0.0    29563\n",
      "1.0     7711\n",
      "Name: bone_met, dtype: int64\n",
      "0.0    0.793127\n",
      "1.0    0.206873\n",
      "Name: bone_met, dtype: float64\n",
      "\n",
      "\n",
      "document level\n",
      "adrenal_met\n",
      "0.0    36591\n",
      "1.0      683\n",
      "Name: adrenal_met, dtype: int64\n",
      "0.0    0.981676\n",
      "1.0    0.018324\n",
      "Name: adrenal_met, dtype: float64\n",
      "\n",
      "\n",
      "document level\n",
      "liver_met\n",
      "0.0    33513\n",
      "1.0     3761\n",
      "Name: liver_met, dtype: int64\n",
      "0.0    0.899099\n",
      "1.0    0.100901\n",
      "Name: liver_met, dtype: float64\n",
      "\n",
      "\n",
      "document level\n",
      "lung_met\n",
      "0.0    31718\n",
      "1.0     5556\n",
      "Name: lung_met, dtype: int64\n",
      "0.0    0.850942\n",
      "1.0    0.149058\n",
      "Name: lung_met, dtype: float64\n",
      "\n",
      "\n",
      "document level\n",
      "node_met\n",
      "0    32725\n",
      "1     4549\n",
      "Name: node_met, dtype: int64\n",
      "0    0.877958\n",
      "1    0.122042\n",
      "Name: node_met, dtype: float64\n",
      "\n",
      "\n",
      "document level\n",
      "peritoneal_met\n",
      "0.0    36364\n",
      "1.0      910\n",
      "Name: peritoneal_met, dtype: int64\n",
      "0.0    0.975586\n",
      "1.0    0.024414\n",
      "Name: peritoneal_met, dtype: float64\n",
      "\n",
      "\n"
     ]
    }
   ],
   "source": [
    "for var in ['GENDER_NM', 'race', 'HISPANIC_IND','agecat', 'cancer_type','any_cancer','progression','response','brain_met','bone_met','adrenal_met','liver_met','lung_met','node_met','peritoneal_met']:\n",
    "    print('document level')\n",
    "    print(var)\n",
    "    print(report_demographics[var].value_counts())\n",
    "    print(report_demographics[var].value_counts()/report_demographics.shape[0])\n",
    "    print(\"\\n\")"
   ]
  },
  {
   "cell_type": "code",
   "execution_count": null,
   "id": "43522347-c58c-47d3-80c1-355711da6ed7",
   "metadata": {},
   "outputs": [],
   "source": []
  },
  {
   "cell_type": "code",
   "execution_count": 116,
   "id": "6a3c540c-f364-4982-9836-5f71048d1906",
   "metadata": {},
   "outputs": [],
   "source": [
    "patient_demographics = reports.groupby('dfci_mrn').first().copy()"
   ]
  },
  {
   "cell_type": "code",
   "execution_count": 124,
   "id": "e52c2943-57ef-49a9-807d-411f4711583a",
   "metadata": {},
   "outputs": [
    {
     "name": "stdout",
     "output_type": "stream",
     "text": [
      "patient level\n",
      "GENDER_NM\n",
      "MALE      1816\n",
      "FEMALE    1397\n",
      "Name: GENDER_NM, dtype: int64\n",
      "MALE      0.565204\n",
      "FEMALE    0.434796\n",
      "Name: GENDER_NM, dtype: float64\n",
      "\n",
      "\n",
      "patient level\n",
      "race\n",
      "White                      2901\n",
      "Black                       119\n",
      "Other/unknown               104\n",
      "Asian                        85\n",
      "American Indian/Alaskan       4\n",
      "Name: race, dtype: int64\n",
      "White                      0.902894\n",
      "Black                      0.037037\n",
      "Other/unknown              0.032369\n",
      "Asian                      0.026455\n",
      "American Indian/Alaskan    0.001245\n",
      "Name: race, dtype: float64\n",
      "\n",
      "\n",
      "patient level\n",
      "HISPANIC_IND\n",
      "N    3143\n",
      "Y      70\n",
      "Name: HISPANIC_IND, dtype: int64\n",
      "N    0.978214\n",
      "Y    0.021786\n",
      "Name: HISPANIC_IND, dtype: float64\n",
      "\n",
      "\n",
      "patient level\n",
      "agecat\n",
      "60-69    997\n",
      "50-59    801\n",
      "70-79    672\n",
      "40-49    373\n",
      "80+      214\n",
      "30-39    132\n",
      "< 30      24\n",
      "Name: agecat, dtype: int64\n",
      "60-69    0.310302\n",
      "50-59    0.249300\n",
      "70-79    0.209150\n",
      "40-49    0.116091\n",
      "80+      0.066604\n",
      "30-39    0.041083\n",
      "< 30     0.007470\n",
      "Name: agecat, dtype: float64\n",
      "\n",
      "\n",
      "patient level\n",
      "cancer_type\n",
      "crc                      629\n",
      "nsclc_phase2_existing    614\n",
      "prostate                 480\n",
      "rcc_barkouny             412\n",
      "pancreas                 402\n",
      "breast                   368\n",
      "bladder                  308\n",
      "Name: cancer_type, dtype: int64\n",
      "crc                      0.195767\n",
      "nsclc_phase2_existing    0.191099\n",
      "prostate                 0.149393\n",
      "rcc_barkouny             0.128229\n",
      "pancreas                 0.125117\n",
      "breast                   0.114535\n",
      "bladder                  0.095861\n",
      "Name: cancer_type, dtype: float64\n",
      "\n",
      "\n",
      "patient level\n",
      "any_cancer\n",
      "1    1643\n",
      "0    1570\n",
      "Name: any_cancer, dtype: int64\n",
      "1    0.51136\n",
      "0    0.48864\n",
      "Name: any_cancer, dtype: float64\n",
      "\n",
      "\n",
      "patient level\n",
      "progression\n",
      "0    2611\n",
      "1     602\n",
      "Name: progression, dtype: int64\n",
      "0    0.812636\n",
      "1    0.187364\n",
      "Name: progression, dtype: float64\n",
      "\n",
      "\n",
      "patient level\n",
      "response\n",
      "0    3039\n",
      "1     174\n",
      "Name: response, dtype: int64\n",
      "0    0.945845\n",
      "1    0.054155\n",
      "Name: response, dtype: float64\n",
      "\n",
      "\n",
      "patient level\n",
      "brain_met\n",
      "0.0    3165\n",
      "1.0      48\n",
      "Name: brain_met, dtype: int64\n",
      "0.0    0.985061\n",
      "1.0    0.014939\n",
      "Name: brain_met, dtype: float64\n",
      "\n",
      "\n",
      "patient level\n",
      "bone_met\n",
      "0.0    2827\n",
      "1.0     386\n",
      "Name: bone_met, dtype: int64\n",
      "0.0    0.879863\n",
      "1.0    0.120137\n",
      "Name: bone_met, dtype: float64\n",
      "\n",
      "\n",
      "patient level\n",
      "adrenal_met\n",
      "0.0    3147\n",
      "1.0      66\n",
      "Name: adrenal_met, dtype: int64\n",
      "0.0    0.979458\n",
      "1.0    0.020542\n",
      "Name: adrenal_met, dtype: float64\n",
      "\n",
      "\n",
      "patient level\n",
      "liver_met\n",
      "0.0    2779\n",
      "1.0     434\n",
      "Name: liver_met, dtype: int64\n",
      "0.0    0.864924\n",
      "1.0    0.135076\n",
      "Name: liver_met, dtype: float64\n",
      "\n",
      "\n",
      "patient level\n",
      "lung_met\n",
      "0.0    2740\n",
      "1.0     473\n",
      "Name: lung_met, dtype: int64\n",
      "0.0    0.852786\n",
      "1.0    0.147214\n",
      "Name: lung_met, dtype: float64\n",
      "\n",
      "\n",
      "patient level\n",
      "node_met\n",
      "0    2748\n",
      "1     465\n",
      "Name: node_met, dtype: int64\n",
      "0    0.855275\n",
      "1    0.144725\n",
      "Name: node_met, dtype: float64\n",
      "\n",
      "\n",
      "patient level\n",
      "peritoneal_met\n",
      "0.0    3100\n",
      "1.0     113\n",
      "Name: peritoneal_met, dtype: int64\n",
      "0.0    0.96483\n",
      "1.0    0.03517\n",
      "Name: peritoneal_met, dtype: float64\n",
      "\n",
      "\n"
     ]
    }
   ],
   "source": [
    "for var in ['GENDER_NM', 'race', 'HISPANIC_IND','agecat', 'cancer_type','any_cancer','progression','response','brain_met','bone_met','adrenal_met','liver_met','lung_met','node_met','peritoneal_met']:\n",
    "    print('patient level')\n",
    "    print(var)\n",
    "    print(patient_demographics[var].value_counts())\n",
    "    print(patient_demographics[var].value_counts()/patient_demographics.shape[0])\n",
    "    print(\"\\n\")"
   ]
  },
  {
   "cell_type": "code",
   "execution_count": null,
   "id": "ad923fe1-b70e-4b27-a8af-dfd783fdaf1d",
   "metadata": {},
   "outputs": [],
   "source": []
  }
 ],
 "metadata": {
  "kernelspec": {
   "display_name": "Python 3 (ipykernel)",
   "language": "python",
   "name": "python3"
  },
  "language_info": {
   "codemirror_mode": {
    "name": "ipython",
    "version": 3
   },
   "file_extension": ".py",
   "mimetype": "text/x-python",
   "name": "python",
   "nbconvert_exporter": "python",
   "pygments_lexer": "ipython3",
   "version": "3.10.10"
  }
 },
 "nbformat": 4,
 "nbformat_minor": 5
}
