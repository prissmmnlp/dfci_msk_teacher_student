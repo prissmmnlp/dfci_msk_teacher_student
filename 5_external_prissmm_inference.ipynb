{
 "cells": [
  {
   "cell_type": "code",
   "execution_count": 1,
   "id": "b0c6dc8e-a1ac-42b9-a16b-c0fb4c9a3f54",
   "metadata": {},
   "outputs": [
    {
     "name": "stderr",
     "output_type": "stream",
     "text": [
      "/home/klkehl/miniconda3/envs/pytorch2/lib/python3.10/site-packages/tqdm/auto.py:21: TqdmWarning: IProgress not found. Please update jupyter and ipywidgets. See https://ipywidgets.readthedocs.io/en/stable/user_install.html\n",
      "  from .autonotebook import tqdm as notebook_tqdm\n"
     ]
    }
   ],
   "source": [
    "import numpy as np\n",
    "import pandas as pd\n",
    "import torch\n",
    "from torch.utils import data\n",
    "from transformers import AutoTokenizer\n",
    "from torch.utils.data import DataLoader"
   ]
  },
  {
   "cell_type": "code",
   "execution_count": 2,
   "id": "bcbf0016-c32f-46df-998e-d39c5048723b",
   "metadata": {},
   "outputs": [],
   "source": [
    "# pull in your dataset here. It should have a column labeled 'text' containing the full radiology report text (not just impression).\n",
    "# if you have narrative reports separate from the impressions, would concatenate the impressions at the end of the narratives.\n",
    "# eg: inference_input = pd.read_csv('./data/prissmm_output_validation_mimic_train.csv')\n",
    "inference_input['text'] = inference_input['text'].str.lower().str.replace(\"\\n\", \" \")\n",
    "inference_input.drop(inference_input.filter(regex='Unnamed|outcome').columns, axis=1, inplace=True)\n"
   ]
  },
  {
   "cell_type": "code",
   "execution_count": 3,
   "id": "de4bc652-48d2-430d-86b4-822a89271604",
   "metadata": {},
   "outputs": [],
   "source": [
    "class UnLabeledDataset(data.Dataset):\n",
    "    def __init__(self, pandas_dataset):\n",
    "        self.data = pandas_dataset.copy()\n",
    "        self.indices = self.data.index.unique()\n",
    "        self.tokenizer = AutoTokenizer.from_pretrained('bert-base-uncased', truncation_side='left')        \n",
    "        \n",
    "        \n",
    "    def __len__(self):\n",
    "        # how many notes in the dataset\n",
    "        return len(self.indices)\n",
    "    \n",
    "    def __getitem__(self, index):\n",
    "        # get data for notes corresponding to indices passed\n",
    "        this_index = self.indices[index]\n",
    "        pand = self.data.loc[this_index, :]\n",
    "    \n",
    "        encoded = self.tokenizer(pand['text'], padding='max_length', truncation=True)\n",
    "\n",
    "        x_text_tensor = torch.tensor(encoded.input_ids, dtype=torch.long)\n",
    "        x_attention_mask = torch.tensor(encoded.attention_mask, dtype=torch.long)\n",
    "        return x_text_tensor, x_attention_mask\n",
    "        "
   ]
  },
  {
   "cell_type": "code",
   "execution_count": 4,
   "id": "d3f1397f-72da-4455-8857-911f4f3faadb",
   "metadata": {},
   "outputs": [],
   "source": [
    "from transformers import AutoModel\n",
    "from torch.nn import functional as F\n",
    "import torch.nn as nn\n",
    "from torch.nn import Linear, Sequential, ReLU\n",
    "\n",
    "   \n",
    "class LabeledModel(nn.Module):\n",
    "\n",
    "    def __init__(self):\n",
    "        super(LabeledModel, self).__init__()\n",
    "        \n",
    "        self.bert = AutoModel.from_pretrained('bert-base-uncased')\n",
    "        \n",
    "        self.any_cancer_head = Sequential(Linear(768, 128), ReLU(), Linear(128,1))\n",
    "        self.response_head = Sequential(Linear(768, 128), ReLU(), Linear(128,1))\n",
    "        self.progression_head = Sequential(Linear(768, 128), ReLU(), Linear(128,1))\n",
    "        self.brain_head = Sequential(Linear(768, 128), ReLU(), Linear(128,1))\n",
    "        self.bone_head = Sequential(Linear(768, 128), ReLU(), Linear(128,1))\n",
    "        self.adrenal_head = Sequential(Linear(768, 128), ReLU(), Linear(128,1))\n",
    "        self.liver_head = Sequential(Linear(768, 128), ReLU(), Linear(128,1))\n",
    "        self.lung_head = Sequential(Linear(768, 128), ReLU(), Linear(128,1))\n",
    "        self.node_head = Sequential(Linear(768, 128), ReLU(), Linear(128,1))\n",
    "        self.peritoneal_head = Sequential(Linear(768, 128), ReLU(), Linear(128,1))\n",
    "\n",
    "        \n",
    "    def forward(self, x_text_tensor, x_attention_mask):\n",
    "        main = self.bert(x_text_tensor, x_attention_mask)\n",
    "        main = main.last_hidden_state[:,0,:].squeeze(1)\n",
    "\n",
    "                                          \n",
    "        any_cancer_out = self.any_cancer_head(main)\n",
    "        response_out = self.response_head(main)\n",
    "        progression_out = self.progression_head(main)\n",
    "        brain_out = self.brain_head(main)\n",
    "        bone_out = self.bone_head(main)\n",
    "        adrenal_out = self.adrenal_head(main)\n",
    "        liver_out = self.liver_head(main)\n",
    "        lung_out = self.lung_head(main)\n",
    "        node_out = self.node_head(main)\n",
    "        peritoneum_out = self.peritoneal_head(main)\n",
    "\n",
    "        return any_cancer_out, response_out, progression_out, brain_out, bone_out, adrenal_out, liver_out, lung_out, node_out, peritoneum_out\n",
    "        \n",
    "\n",
    "\n"
   ]
  },
  {
   "cell_type": "code",
   "execution_count": 5,
   "id": "f013cb8a-fa48-4139-a291-e4b866d8c74d",
   "metadata": {},
   "outputs": [],
   "source": [
    "device = 'cuda' if torch.cuda.is_available() else 'cpu'"
   ]
  },
  {
   "cell_type": "code",
   "execution_count": 6,
   "id": "0b1b6a02-67f9-4169-a7e6-95324454edf6",
   "metadata": {},
   "outputs": [],
   "source": [
    "# write out the inference dataset\n",
    "themodel = LabeledModel()\n",
    "themodel.load_state_dict(torch.load('./dfci_mimic_imaging_bert.pt'))\n",
    "themodel.to(device)\n",
    "\n",
    "themodel.eval()\n",
    "\n",
    "dataset = data.DataLoader(UnLabeledDataset(inference_input), batch_size=16, shuffle=False, num_workers=0)\n",
    "\n",
    "output_true_lists = [[] for x in range(10)]\n",
    "output_prediction_lists = [[] for x in range(10)]\n",
    "for batch in dataset:\n",
    "\n",
    "    x_text_ids = batch[0].to(device)\n",
    "    x_attention_mask = batch[1].to(device)\n",
    "    with torch.no_grad():\n",
    "        predictions = themodel(x_text_ids, x_attention_mask)\n",
    "    for j in range(10):\n",
    "        output_prediction_lists[j].append(predictions[j].detach().cpu().numpy())\n",
    "\n",
    "output_prediction_lists = [np.concatenate(x) for x in output_prediction_lists]\n",
    "\n",
    "\n",
    "output_dataset = inference_input.copy()\n",
    "for x in range(10):\n",
    "    output_dataset['outcome_' + str(x) + '_logit'] = output_prediction_lists[x]\n"
   ]
  },
  {
   "cell_type": "code",
   "execution_count": 7,
   "id": "fb24fe7a-c93d-4611-b223-c19cd21a575e",
   "metadata": {},
   "outputs": [],
   "source": [
    "output_dataset=output_dataset.rename(columns={'outcome_0_logit' : 'any_cancer_logit',\n",
    "                                              'outcome_1_logit' : 'response_logit',\n",
    "                                              'outcome_2_logit' : 'progression_or_mixed_logit',\n",
    "                                              'outcome_3_logit' : 'brain_met_logit',\n",
    "                                              'outcome_4_logit' : 'bone_met_logit',\n",
    "                                              'outcome_5_logit' : 'adrenal_met_logit',\n",
    "                                              'outcome_6_logit' : 'liver_met_logit',\n",
    "                                              'outcome_7_logit' : 'lung_met_logit',\n",
    "                                              'outcome_8_logit' : 'node_met_logit',\n",
    "                                              'outcome_9_logit' : 'peritoneum_met_logit'})"
   ]
  },
  {
   "cell_type": "code",
   "execution_count": 9,
   "id": "fb049bac-910f-4f4f-94fa-49dc5167c78d",
   "metadata": {},
   "outputs": [
    {
     "name": "stdout",
     "output_type": "stream",
     "text": [
      "<class 'pandas.core.frame.DataFrame'>\n",
      "RangeIndex: 3482 entries, 0 to 3481\n",
      "Data columns (total 43 columns):\n",
      " #   Column                      Non-Null Count  Dtype  \n",
      "---  ------                      --------------  -----  \n",
      " 0   dfci_mrn                    3482 non-null   float64\n",
      " 1   cancer_type                 3482 non-null   object \n",
      " 2   image_scan_type             3482 non-null   float64\n",
      " 3   date                        3482 non-null   object \n",
      " 4   head_imaged                 3482 non-null   float64\n",
      " 5   neck_imaged                 3482 non-null   float64\n",
      " 6   spine_imaged                3482 non-null   float64\n",
      " 7   chest_imaged                3482 non-null   float64\n",
      " 8   abdomen_imaged              3482 non-null   float64\n",
      " 9   pelvis_imaged               3482 non-null   float64\n",
      " 10  any_cancer                  3482 non-null   int64  \n",
      " 11  progression                 3482 non-null   int64  \n",
      " 12  response                    3482 non-null   int64  \n",
      " 13  class_status                3480 non-null   float64\n",
      " 14  brain_met                   3482 non-null   float64\n",
      " 15  bone_met                    3482 non-null   float64\n",
      " 16  adrenal_met                 3482 non-null   float64\n",
      " 17  liver_met                   3482 non-null   float64\n",
      " 18  lung_met                    3482 non-null   float64\n",
      " 19  node_met                    3482 non-null   int64  \n",
      " 20  peritoneal_met              3482 non-null   float64\n",
      " 21  extremity_imaged            3482 non-null   float64\n",
      " 22  whole_body_imaged           3482 non-null   float64\n",
      " 23  text                        3482 non-null   object \n",
      " 24  impression_text             2377 non-null   object \n",
      " 25  scan_type                   3482 non-null   object \n",
      " 26  patient_id                  3482 non-null   int64  \n",
      " 27  hybrid_death_ind            3482 non-null   object \n",
      " 28  hybrid_death_dt             2571 non-null   object \n",
      " 29  primary_cancer_diagnosis    3482 non-null   object \n",
      " 30  genomics_date               3482 non-null   object \n",
      " 31  after_profile               3482 non-null   int64  \n",
      " 32  split                       3482 non-null   object \n",
      " 33  any_cancer_logit            3482 non-null   float32\n",
      " 34  response_logit              3482 non-null   float32\n",
      " 35  progression_or_mixed_logit  3482 non-null   float32\n",
      " 36  brain_met_logit             3482 non-null   float32\n",
      " 37  bone_met_logit              3482 non-null   float32\n",
      " 38  adrenal_met_logit           3482 non-null   float32\n",
      " 39  liver_met_logit             3482 non-null   float32\n",
      " 40  lung_met_logit              3482 non-null   float32\n",
      " 41  node_met_logit              3482 non-null   float32\n",
      " 42  peritoneum_met_logit        3482 non-null   float32\n",
      "dtypes: float32(10), float64(17), int64(6), object(10)\n",
      "memory usage: 1.0+ MB\n"
     ]
    }
   ],
   "source": [
    "output_dataset.info()"
   ]
  },
  {
   "cell_type": "code",
   "execution_count": null,
   "id": "53ac51fc-015a-467c-8d31-4a6d518c0278",
   "metadata": {},
   "outputs": [],
   "source": []
  }
 ],
 "metadata": {
  "kernelspec": {
   "display_name": "Python 3 (ipykernel)",
   "language": "python",
   "name": "python3"
  },
  "language_info": {
   "codemirror_mode": {
    "name": "ipython",
    "version": 3
   },
   "file_extension": ".py",
   "mimetype": "text/x-python",
   "name": "python",
   "nbconvert_exporter": "python",
   "pygments_lexer": "ipython3",
   "version": "3.10.10"
  }
 },
 "nbformat": 4,
 "nbformat_minor": 5
}
