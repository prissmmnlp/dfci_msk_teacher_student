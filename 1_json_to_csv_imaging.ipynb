{
 "cells": [
  {
   "cell_type": "code",
   "execution_count": null,
   "id": "d5e75503-0d93-42ac-bc49-280a7ab8f24e",
   "metadata": {},
   "outputs": [],
   "source": [
    "# notebook used for transforming imaging reports in JSON format into CSV file"
   ]
  },
  {
   "cell_type": "code",
   "execution_count": 1,
   "id": "e5f15582",
   "metadata": {},
   "outputs": [],
   "source": [
    "import numpy as np\n",
    "import pandas as pd\n",
    "import json\n",
    "import glob"
   ]
  },
  {
   "cell_type": "code",
   "execution_count": 2,
   "id": "1e458511",
   "metadata": {},
   "outputs": [],
   "source": [
    "prefix = '/mnt/d/Dropbox (Partners Healthcare)/profile_3-2023/'\n"
   ]
  },
  {
   "cell_type": "code",
   "execution_count": 7,
   "id": "d68c533b",
   "metadata": {},
   "outputs": [],
   "source": [
    "def parse_imaging_json(file_name):\n",
    "    with open(file_name, encoding='utf-8') as json_file:\n",
    "        imaging_dict = json.load(json_file)\n",
    "    imaging_frame = pd.DataFrame.from_records(imaging_dict['response']['docs'])   \n",
    "    imaging_frame = imaging_frame[['DFCI_MRN','EVENT_DATE','RPT_TEXT','IMPRESSION_TEXT','PROC_DESC']]\n",
    "    imaging_frame = imaging_frame.rename(columns={'DFCI_MRN':'dfci_mrn', 'EVENT_DATE':'date', 'RPT_TEXT':'text', 'IMPRESSION_TEXT':'impression_text','PROC_DESC':'scan_type'})\n",
    "    \n",
    "    imaging_frame.date = pd.to_datetime(imaging_frame.date.str[:10])\n",
    "    \n",
    "    imaging_frame.text = imaging_frame.text.str.replace('\\n|\\r', ' ')\n",
    "    imaging_frame.text = imaging_frame.text.str.encode('ascii', 'ignore')\n",
    "    imaging_frame.text = [str(x, 'ascii') for x in imaging_frame.text]\n",
    "    imaging_frame.text = imaging_frame.text.str.replace('20\\d\\d',' ')\n",
    "\n",
    "    imaging_frame['text'] = imaging_frame.text.str.replace(\"\\\\s+\", \" \", regex=True)\n",
    "\n",
    "\n",
    "    #imaging_frame.text = imaging_frame.text.str.lower()\n",
    "    \n",
    "    imaging_frame = imaging_frame[~imaging_frame.scan_type.str.contains('XR ')]\n",
    "    \n",
    "    imaging_frame = imaging_frame[~imaging_frame.scan_type.str.contains('PACS')]\n",
    "\n",
    "    \n",
    "    return imaging_frame\n",
    "        "
   ]
  },
  {
   "cell_type": "code",
   "execution_count": 8,
   "id": "4b921ae4",
   "metadata": {},
   "outputs": [
    {
     "data": {
      "text/plain": [
       "['d:/Dropbox (Partners Healthcare)/profile_3-2023//text/imaging\\\\RequestID-105304-0323-Imaging-1.json',\n",
       " 'd:/Dropbox (Partners Healthcare)/profile_3-2023//text/imaging\\\\RequestID-105304-0323-Imaging-2.json',\n",
       " 'd:/Dropbox (Partners Healthcare)/profile_3-2023//text/imaging\\\\RequestID-105304-0323-Imaging-3.json',\n",
       " 'd:/Dropbox (Partners Healthcare)/profile_3-2023//text/imaging\\\\RequestID-105304-0323-Imaging-4.json']"
      ]
     },
     "execution_count": 8,
     "metadata": {},
     "output_type": "execute_result"
    }
   ],
   "source": [
    "filename_list = [x for x in glob.glob(prefix+'/text/imaging/*Imag*.json')]\n",
    "filename_list"
   ]
  },
  {
   "cell_type": "code",
   "execution_count": 9,
   "id": "84fd2986",
   "metadata": {},
   "outputs": [
    {
     "name": "stderr",
     "output_type": "stream",
     "text": [
      "C:\\Users\\kk71\\AppData\\Local\\Temp\\ipykernel_16428\\4205139122.py:11: FutureWarning: The default value of regex will change from True to False in a future version.\n",
      "  imaging_frame.text = imaging_frame.text.str.replace('\\n|\\r', ' ')\n",
      "C:\\Users\\kk71\\AppData\\Local\\Temp\\ipykernel_16428\\4205139122.py:14: FutureWarning: The default value of regex will change from True to False in a future version.\n",
      "  imaging_frame.text = imaging_frame.text.str.replace('20\\d\\d',' ')\n",
      "C:\\Users\\kk71\\AppData\\Local\\Temp\\ipykernel_16428\\4205139122.py:11: FutureWarning: The default value of regex will change from True to False in a future version.\n",
      "  imaging_frame.text = imaging_frame.text.str.replace('\\n|\\r', ' ')\n",
      "C:\\Users\\kk71\\AppData\\Local\\Temp\\ipykernel_16428\\4205139122.py:14: FutureWarning: The default value of regex will change from True to False in a future version.\n",
      "  imaging_frame.text = imaging_frame.text.str.replace('20\\d\\d',' ')\n",
      "C:\\Users\\kk71\\AppData\\Local\\Temp\\ipykernel_16428\\4205139122.py:11: FutureWarning: The default value of regex will change from True to False in a future version.\n",
      "  imaging_frame.text = imaging_frame.text.str.replace('\\n|\\r', ' ')\n",
      "C:\\Users\\kk71\\AppData\\Local\\Temp\\ipykernel_16428\\4205139122.py:14: FutureWarning: The default value of regex will change from True to False in a future version.\n",
      "  imaging_frame.text = imaging_frame.text.str.replace('20\\d\\d',' ')\n",
      "C:\\Users\\kk71\\AppData\\Local\\Temp\\ipykernel_16428\\4205139122.py:11: FutureWarning: The default value of regex will change from True to False in a future version.\n",
      "  imaging_frame.text = imaging_frame.text.str.replace('\\n|\\r', ' ')\n",
      "C:\\Users\\kk71\\AppData\\Local\\Temp\\ipykernel_16428\\4205139122.py:14: FutureWarning: The default value of regex will change from True to False in a future version.\n",
      "  imaging_frame.text = imaging_frame.text.str.replace('20\\d\\d',' ')\n"
     ]
    }
   ],
   "source": [
    "report_list = [parse_imaging_json(x) for x in filename_list]"
   ]
  },
  {
   "cell_type": "code",
   "execution_count": 13,
   "id": "dde917f5",
   "metadata": {},
   "outputs": [],
   "source": [
    "report_frame = pd.concat(report_list, axis=0)"
   ]
  },
  {
   "cell_type": "code",
   "execution_count": 14,
   "id": "3f603946",
   "metadata": {},
   "outputs": [
    {
     "name": "stdout",
     "output_type": "stream",
     "text": [
      "<class 'pandas.core.frame.DataFrame'>\n",
      "Int64Index: 1327678 entries, 0 to 254106\n",
      "Data columns (total 5 columns):\n",
      " #   Column           Non-Null Count    Dtype         \n",
      "---  ------           --------------    -----         \n",
      " 0   dfci_mrn         1327678 non-null  object        \n",
      " 1   date             1327678 non-null  datetime64[ns]\n",
      " 2   text             1327678 non-null  object        \n",
      " 3   impression_text  635159 non-null   object        \n",
      " 4   scan_type        1327678 non-null  object        \n",
      "dtypes: datetime64[ns](1), object(4)\n",
      "memory usage: 60.8+ MB\n"
     ]
    }
   ],
   "source": [
    "report_frame.info()"
   ]
  },
  {
   "cell_type": "code",
   "execution_count": 16,
   "id": "7a4197a4",
   "metadata": {},
   "outputs": [
    {
     "name": "stdout",
     "output_type": "stream",
     "text": [
      "<class 'pandas.core.frame.DataFrame'>\n",
      "RangeIndex: 56870 entries, 0 to 56869\n",
      "Data columns (total 4 columns):\n",
      " #   Column            Non-Null Count  Dtype \n",
      "---  ------            --------------  ----- \n",
      " 0   dfci_mrn          56870 non-null  int64 \n",
      " 1   patient_id        56870 non-null  int64 \n",
      " 2   hybrid_death_ind  56870 non-null  object\n",
      " 3   hybrid_death_dt   22955 non-null  object\n",
      "dtypes: int64(2), object(2)\n",
      "memory usage: 1.7+ MB\n"
     ]
    }
   ],
   "source": [
    "registration = pd.read_csv(prefix+'structured_data/REQ_KK71_105304_2_PT_INFO_STATUS_REGISTRATION.csv', sep=',', encoding='iso-8859-1', low_memory=False)[['DFCI_MRN', 'PATIENT_ID', 'HYBRID_DEATH_IND', 'HYBRID_DEATH_DT']].rename(columns={'DFCI_MRN':'dfci_mrn', 'PATIENT_ID':'patient_id', 'HYBRID_DEATH_IND':'hybrid_death_ind', 'HYBRID_DEATH_DT':'hybrid_death_dt'})\n",
    "registration.info()"
   ]
  },
  {
   "cell_type": "code",
   "execution_count": 17,
   "id": "a074da1c",
   "metadata": {},
   "outputs": [],
   "source": [
    "report_frame['dfci_mrn'] = pd.to_numeric(report_frame.dfci_mrn)\n",
    "report_frame = pd.merge(report_frame, registration, on='dfci_mrn')\n"
   ]
  },
  {
   "cell_type": "code",
   "execution_count": 20,
   "id": "635c8c88",
   "metadata": {},
   "outputs": [],
   "source": []
  },
  {
   "cell_type": "code",
   "execution_count": 22,
   "id": "0d7d04a9",
   "metadata": {},
   "outputs": [
    {
     "data": {
      "text/plain": [
       "Lung Adenocarcinoma                    3607\n",
       "Colon Adenocarcinoma                   2477\n",
       "Breast Invasive Ductal Carcinoma       1550\n",
       "Pancreatic Adenocarcinoma              1504\n",
       "Glioblastoma                           1366\n",
       "                                       ... \n",
       "Gestational Trophoblastic Disease         1\n",
       "Complete Hydatidiform Mole                1\n",
       "Metaplastic Squamous Cell Carcinoma       1\n",
       "Liver Angiosarcoma                        1\n",
       "Renal Medullary Carcinoma                 1\n",
       "Name: primary_cancer_diagnosis, Length: 474, dtype: int64"
      ]
     },
     "execution_count": 22,
     "metadata": {},
     "output_type": "execute_result"
    }
   ],
   "source": [
    "# pull tumor sequencing data to get cancer diagnosis per Oncotree and NGS date\n",
    "specimens = pd.read_csv(prefix+'structured_data/REQ_KK71_105304_2_GENOMIC_SPECIMEN.csv', encoding='ISO-8859-1', low_memory=False)\n",
    "specimens = specimens[['PATIENT_ID','PRIMARY_CANCER_DIAGNOSIS', 'TEST_ORDER_DT']].groupby('PATIENT_ID').first().reset_index().rename(columns={'PATIENT_ID':'patient_id', 'PRIMARY_CANCER_DIAGNOSIS':'primary_cancer_diagnosis', 'TEST_ORDER_DT':'genomics_date'})\n",
    "specimens = pd.merge(specimens, registration, on='patient_id')\n",
    "specimens = specimens[~specimens.primary_cancer_diagnosis.isnull()]\n",
    "# no leukemia or myeloma\n",
    "specimens = specimens[~specimens.primary_cancer_diagnosis.str.contains(\"Leukemia|Myeloma\")]\n",
    "specimens['genomics_date'] = pd.to_datetime(specimens.genomics_date)\n",
    "specimens = specimens.sort_values(by=['dfci_mrn','genomics_date']).reset_index(drop=True)\n",
    "specimens = specimens.groupby('dfci_mrn').first().reset_index()\n",
    "specimens = specimens[['dfci_mrn','primary_cancer_diagnosis', 'genomics_date']]\n",
    "specimens.primary_cancer_diagnosis.value_counts()"
   ]
  },
  {
   "cell_type": "code",
   "execution_count": null,
   "id": "351ab13b",
   "metadata": {},
   "outputs": [],
   "source": []
  },
  {
   "cell_type": "code",
   "execution_count": 23,
   "id": "fd585ef3",
   "metadata": {},
   "outputs": [
    {
     "data": {
      "text/plain": [
       "35287"
      ]
     },
     "execution_count": 23,
     "metadata": {},
     "output_type": "execute_result"
    }
   ],
   "source": [
    "specimens.shape[0]"
   ]
  },
  {
   "cell_type": "code",
   "execution_count": null,
   "id": "10b9eae5",
   "metadata": {},
   "outputs": [],
   "source": [
    "report_frame = pd.merge(report_frame, specimens, on=['dfci_mrn'])\n",
    "report_frame['after_profile'] = np.where(report_frame.genomics_date.isnull() | (report_frame.date < report_frame.genomics_date), 0, 1)\n",
    "report_frame['hybrid_death_dt'] = pd.to_datetime(report_frame.hybrid_death_dt)\n"
   ]
  },
  {
   "cell_type": "code",
   "execution_count": 25,
   "id": "33439381",
   "metadata": {},
   "outputs": [],
   "source": [
    "# pull train/val/test split\n",
    "split = pd.read_csv(prefix+'derived_data/split_3-2023.csv')"
   ]
  },
  {
   "cell_type": "code",
   "execution_count": 26,
   "id": "7b0c8f2f",
   "metadata": {},
   "outputs": [
    {
     "name": "stdout",
     "output_type": "stream",
     "text": [
      "<class 'pandas.core.frame.DataFrame'>\n",
      "Int64Index: 776304 entries, 2 to 946820\n",
      "Data columns (total 12 columns):\n",
      " #   Column                    Non-Null Count   Dtype         \n",
      "---  ------                    --------------   -----         \n",
      " 0   dfci_mrn                  776304 non-null  int64         \n",
      " 1   date                      776304 non-null  datetime64[ns]\n",
      " 2   text                      776304 non-null  object        \n",
      " 3   impression_text           492240 non-null  object        \n",
      " 4   scan_type                 776304 non-null  object        \n",
      " 5   patient_id                776304 non-null  int64         \n",
      " 6   hybrid_death_ind          776304 non-null  object        \n",
      " 7   hybrid_death_dt           398506 non-null  datetime64[ns]\n",
      " 8   primary_cancer_diagnosis  776304 non-null  object        \n",
      " 9   genomics_date             776304 non-null  datetime64[ns]\n",
      " 10  after_profile             776304 non-null  int32         \n",
      " 11  split                     776304 non-null  object        \n",
      "dtypes: datetime64[ns](3), int32(1), int64(2), object(6)\n",
      "memory usage: 74.0+ MB\n"
     ]
    }
   ],
   "source": [
    "final_output = pd.merge(report_frame, split[['dfci_mrn', 'split']], on='dfci_mrn')\n",
    "# no external scans without interpretation\n",
    "final_output = final_output[~final_output.scan_type.str.contains('NO INTERPRETATION')]\n",
    "final_output.info()"
   ]
  },
  {
   "cell_type": "code",
   "execution_count": 27,
   "id": "3eb8cb18",
   "metadata": {},
   "outputs": [
    {
     "data": {
      "text/plain": [
       "'d:/Dropbox (Partners Healthcare)/profile_3-2023/'"
      ]
     },
     "execution_count": 27,
     "metadata": {},
     "output_type": "execute_result"
    }
   ],
   "source": [
    "prefix"
   ]
  },
  {
   "cell_type": "code",
   "execution_count": 28,
   "id": "5aac1bd8",
   "metadata": {},
   "outputs": [],
   "source": [
    "final_output.to_csv(prefix+'derived_data/all_imaging_for_prissmm.csv')"
   ]
  },
  {
   "cell_type": "code",
   "execution_count": 29,
   "id": "93a5bc19",
   "metadata": {},
   "outputs": [],
   "source": [
    "final_output = pd.read_csv(prefix+'derived_data/all_imaging_for_prissmm.csv')"
   ]
  },
  {
   "cell_type": "code",
   "execution_count": 30,
   "id": "b514fbe8",
   "metadata": {},
   "outputs": [
    {
     "data": {
      "text/plain": [
       "CT CHEST                                105559\n",
       "CT ABDOMEN/PELVIS                        91581\n",
       "MRI BRAIN                                47445\n",
       "CT CHEST WITH CONTRAST                   41924\n",
       "HISTORICAL RADIOLOGY RESULT, NOS         34194\n",
       "MRI BRAIN WITH AND WITHOUT CONTRAST      22886\n",
       "NM PET CT SKULL BASE TO MID THIGHS       21305\n",
       "CT ABDOMEN/PELVIS (GI) WITH CONTRAST     17450\n",
       "CT HEAD                                  13342\n",
       "CT ABDOMEN/PELVIS WITH CONTRAST          11422\n",
       "CT CHEST WITHOUT CONTRAST                10814\n",
       "BI MAMMOGRAM SCREENING (BILATERAL)       10484\n",
       "MRI ABDOMEN                              10208\n",
       "CT NECK                                   8353\n",
       "CT CHEST PULMONARY ANGIOGRAM              7964\n",
       "NM BONE SCAN WHOLE BODY                   7913\n",
       "NM PET CT                                 7593\n",
       "BI MAMMOGRAM SCREENING                    7396\n",
       "MRI LUMBAR SPINE                          6443\n",
       "CT HEAD WITHOUT CONTRAST                  6136\n",
       "Name: scan_type, dtype: int64"
      ]
     },
     "execution_count": 30,
     "metadata": {},
     "output_type": "execute_result"
    }
   ],
   "source": [
    "final_output.scan_type.value_counts()[0:20]"
   ]
  },
  {
   "cell_type": "code",
   "execution_count": null,
   "id": "e95af53b",
   "metadata": {},
   "outputs": [],
   "source": []
  }
 ],
 "metadata": {
  "kernelspec": {
   "display_name": "Python 3 (ipykernel)",
   "language": "python",
   "name": "python3"
  },
  "language_info": {
   "codemirror_mode": {
    "name": "ipython",
    "version": 3
   },
   "file_extension": ".py",
   "mimetype": "text/x-python",
   "name": "python",
   "nbconvert_exporter": "python",
   "pygments_lexer": "ipython3",
   "version": "3.10.10"
  }
 },
 "nbformat": 4,
 "nbformat_minor": 5
}
