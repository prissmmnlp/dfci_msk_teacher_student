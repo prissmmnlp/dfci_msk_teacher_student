{
 "cells": [
  {
   "cell_type": "code",
   "execution_count": null,
   "metadata": {},
   "outputs": [],
   "source": [
    "# notebook for training teacher model on DFCI PHI to predict RECIST progression and response annotations"
   ]
  },
  {
   "cell_type": "code",
   "execution_count": 1,
   "metadata": {},
   "outputs": [],
   "source": [
    "import pandas as pd\n",
    "import numpy as np\n",
    "from transformers import AutoTokenizer\n",
    "import torch\n",
    "import os\n",
    "os.environ[\"TOKENIZERS_PARALLELISM\"] = \"false\""
   ]
  },
  {
   "cell_type": "code",
   "execution_count": 2,
   "metadata": {},
   "outputs": [],
   "source": [
    "reports = pd.read_csv('/mnt/d/Dropbox (Partners HealthCare)/profile_3-2023/derived_data/labeled_imaging_prissmm.csv')"
   ]
  },
  {
   "cell_type": "code",
   "execution_count": 3,
   "metadata": {},
   "outputs": [],
   "source": [
    "# define progression to include annotations of mixed response\n",
    "reports['progression'] = np.where(reports.class_status==3,1,reports.progression)"
   ]
  },
  {
   "cell_type": "code",
   "execution_count": 4,
   "metadata": {},
   "outputs": [
    {
     "name": "stdout",
     "output_type": "stream",
     "text": [
      "<class 'pandas.core.frame.DataFrame'>\n",
      "RangeIndex: 37274 entries, 0 to 37273\n",
      "Data columns (total 35 columns):\n",
      " #   Column                    Non-Null Count  Dtype  \n",
      "---  ------                    --------------  -----  \n",
      " 0   Unnamed: 0.1              37274 non-null  int64  \n",
      " 1   dfci_mrn                  37274 non-null  float64\n",
      " 2   cancer_type               37274 non-null  object \n",
      " 3   image_scan_type           37274 non-null  float64\n",
      " 4   date                      37274 non-null  object \n",
      " 5   head_imaged               37274 non-null  float64\n",
      " 6   neck_imaged               37274 non-null  float64\n",
      " 7   spine_imaged              37274 non-null  float64\n",
      " 8   chest_imaged              37274 non-null  float64\n",
      " 9   abdomen_imaged            37274 non-null  float64\n",
      " 10  pelvis_imaged             37274 non-null  float64\n",
      " 11  any_cancer                37274 non-null  int64  \n",
      " 12  progression               37274 non-null  int64  \n",
      " 13  response                  37274 non-null  int64  \n",
      " 14  class_status              37261 non-null  float64\n",
      " 15  brain_met                 37274 non-null  float64\n",
      " 16  bone_met                  37274 non-null  float64\n",
      " 17  adrenal_met               37274 non-null  float64\n",
      " 18  liver_met                 37274 non-null  float64\n",
      " 19  lung_met                  37274 non-null  float64\n",
      " 20  node_met                  37274 non-null  int64  \n",
      " 21  peritoneal_met            37274 non-null  float64\n",
      " 22  extremity_imaged          37274 non-null  float64\n",
      " 23  whole_body_imaged         37274 non-null  float64\n",
      " 24  Unnamed: 0                37274 non-null  int64  \n",
      " 25  text                      37274 non-null  object \n",
      " 26  impression_text           27176 non-null  object \n",
      " 27  scan_type                 37274 non-null  object \n",
      " 28  patient_id                37274 non-null  int64  \n",
      " 29  hybrid_death_ind          37274 non-null  object \n",
      " 30  hybrid_death_dt           24152 non-null  object \n",
      " 31  primary_cancer_diagnosis  37274 non-null  object \n",
      " 32  genomics_date             37274 non-null  object \n",
      " 33  after_profile             37274 non-null  int64  \n",
      " 34  split                     37274 non-null  object \n",
      "dtypes: float64(17), int64(8), object(10)\n",
      "memory usage: 10.0+ MB\n"
     ]
    }
   ],
   "source": [
    "\n",
    "reports.info()"
   ]
  },
  {
   "cell_type": "code",
   "execution_count": 5,
   "metadata": {},
   "outputs": [
    {
     "data": {
      "text/plain": [
       "1.0     22677\n",
       "3.0      7613\n",
       "7.0      3405\n",
       "5.0      2889\n",
       "11.0      690\n",
       "Name: image_scan_type, dtype: int64"
      ]
     },
     "execution_count": 5,
     "metadata": {},
     "output_type": "execute_result"
    }
   ],
   "source": [
    "reports.image_scan_type.value_counts()"
   ]
  },
  {
   "cell_type": "code",
   "execution_count": 6,
   "metadata": {},
   "outputs": [],
   "source": [
    "check_distribution = reports[reports.split=='train']"
   ]
  },
  {
   "cell_type": "code",
   "execution_count": 7,
   "metadata": {},
   "outputs": [
    {
     "data": {
      "text/plain": [
       "nsclc_phase2_existing    0.266649\n",
       "breast                   0.167974\n",
       "crc                      0.167810\n",
       "prostate                 0.143314\n",
       "pancreas                 0.087498\n",
       "bladder                  0.084630\n",
       "rcc_barkouny             0.082124\n",
       "Name: cancer_type, dtype: float64"
      ]
     },
     "execution_count": 7,
     "metadata": {},
     "output_type": "execute_result"
    }
   ],
   "source": [
    "check_distribution.cancer_type.value_counts()/check_distribution.shape[0]"
   ]
  },
  {
   "cell_type": "code",
   "execution_count": 8,
   "metadata": {},
   "outputs": [
    {
     "data": {
      "text/plain": [
       "0.0    0.445437\n",
       "4.0    0.216768\n",
       "2.0    0.153402\n",
       "5.0    0.104147\n",
       "1.0    0.062475\n",
       "3.0    0.017440\n",
       "Name: class_status, dtype: float64"
      ]
     },
     "execution_count": 8,
     "metadata": {},
     "output_type": "execute_result"
    }
   ],
   "source": [
    "check_distribution.class_status.value_counts()/check_distribution.shape[0]"
   ]
  },
  {
   "cell_type": "code",
   "execution_count": null,
   "metadata": {},
   "outputs": [],
   "source": [
    "to_train = reports[['dfci_mrn','text','split','any_cancer','progression','response','brain_met','bone_met','adrenal_met','liver_met','lung_met','node_met','peritoneal_met']]\n",
    "to_train['text'] = to_train.text.str.lower()\n"
   ]
  },
  {
   "cell_type": "code",
   "execution_count": 10,
   "metadata": {},
   "outputs": [],
   "source": [
    "training = to_train[to_train.split=='train']\n",
    "#training['length'] = training.text.str.count(' ')"
   ]
  },
  {
   "cell_type": "code",
   "execution_count": 12,
   "metadata": {},
   "outputs": [
    {
     "data": {
      "text/plain": [
       "30332"
      ]
     },
     "execution_count": 12,
     "metadata": {},
     "output_type": "execute_result"
    }
   ],
   "source": [
    "training.shape[0]"
   ]
  },
  {
   "cell_type": "code",
   "execution_count": 13,
   "metadata": {},
   "outputs": [
    {
     "data": {
      "text/plain": [
       "2609"
      ]
     },
     "execution_count": 13,
     "metadata": {},
     "output_type": "execute_result"
    }
   ],
   "source": [
    "training.dfci_mrn.nunique()"
   ]
  },
  {
   "cell_type": "code",
   "execution_count": null,
   "metadata": {},
   "outputs": [],
   "source": []
  },
  {
   "cell_type": "code",
   "execution_count": 14,
   "metadata": {},
   "outputs": [],
   "source": [
    "validation = to_train[to_train.split=='validation']\n",
    "#validation['length'] = validation.text.str.count(' ')"
   ]
  },
  {
   "cell_type": "code",
   "execution_count": 15,
   "metadata": {},
   "outputs": [],
   "source": [
    "test = to_train[to_train.split=='test']\n"
   ]
  },
  {
   "cell_type": "code",
   "execution_count": null,
   "metadata": {},
   "outputs": [],
   "source": []
  },
  {
   "cell_type": "code",
   "execution_count": 16,
   "metadata": {},
   "outputs": [],
   "source": [
    "from torch.utils import data\n",
    "\n",
    "class LabeledDataset(data.Dataset):\n",
    "    def __init__(self, pandas_dataset):\n",
    "        self.data = pandas_dataset.copy()\n",
    "        self.indices = self.data.index.unique()\n",
    "        self.tokenizer = AutoTokenizer.from_pretrained('bert-base-uncased', truncation_side='left')        \n",
    "        \n",
    "        \n",
    "    def __len__(self):\n",
    "        # how many notes in the dataset\n",
    "        return len(self.indices)\n",
    "    \n",
    "    def __getitem__(self, index):\n",
    "        # get data for notes corresponding to indices passed\n",
    "        this_index = self.indices[index]\n",
    "        pand = self.data.loc[this_index, :]\n",
    "    \n",
    "        encoded = self.tokenizer(pand['text'], padding='max_length', truncation=True)\n",
    "\n",
    "        x_text_tensor = torch.tensor(encoded.input_ids, dtype=torch.long)\n",
    "        x_attention_mask = torch.tensor(encoded.attention_mask, dtype=torch.long)\n",
    "        \n",
    "        y_any_cancer = torch.tensor(pand.any_cancer, dtype=torch.float32)\n",
    "        y_response = torch.tensor(pand.response, dtype=torch.float32)\n",
    "        y_progression = torch.tensor(pand.progression, dtype=torch.float32)\n",
    "        \n",
    "        y_brain_met = torch.tensor(pand.brain_met, dtype=torch.float32)\n",
    "        y_bone_met = torch.tensor(pand.bone_met, dtype=torch.float32)\n",
    "        y_adrenal_met = torch.tensor(pand.adrenal_met, dtype=torch.float32)\n",
    "        y_liver_met = torch.tensor(pand.liver_met, dtype=torch.float32)\n",
    "        y_lung_met = torch.tensor(pand.lung_met, dtype=torch.float32)\n",
    "        y_node_met = torch.tensor(pand.node_met,  dtype=torch.float32)\n",
    "        y_peritoneal_met = torch.tensor(pand.peritoneal_met, dtype=torch.float32)\n",
    "\n",
    "        return x_text_tensor, x_attention_mask, y_any_cancer, y_response, y_progression, y_brain_met, y_bone_met, y_adrenal_met, y_liver_met, y_lung_met, y_node_met, y_peritoneal_met\n",
    "        \n",
    "        "
   ]
  },
  {
   "cell_type": "code",
   "execution_count": 18,
   "metadata": {},
   "outputs": [],
   "source": [
    "\n",
    "from transformers import AutoModel\n",
    "\n",
    "\n",
    "\n",
    "from torch.nn import functional as F\n",
    "import torch.nn as nn\n",
    "from torch.utils.data import DataLoader\n",
    "from torch.nn import LSTM, Linear, Embedding, Conv1d, MaxPool1d, GRU, LSTMCell, Dropout, Module, Sequential, ReLU\n",
    "\n",
    "   \n",
    "class LabeledModel(nn.Module):\n",
    "\n",
    "    def __init__(self):\n",
    "        super(LabeledModel, self).__init__()\n",
    "        \n",
    "        self.bert = AutoModel.from_pretrained('bert-base-uncased')\n",
    "        \n",
    "        self.any_cancer_head = Sequential(Linear(768, 128), ReLU(), Linear(128,1))\n",
    "        self.response_head = Sequential(Linear(768, 128), ReLU(), Linear(128,1))\n",
    "        self.progression_head = Sequential(Linear(768, 128), ReLU(), Linear(128,1))\n",
    "        self.brain_head = Sequential(Linear(768, 128), ReLU(), Linear(128,1))\n",
    "        self.bone_head = Sequential(Linear(768, 128), ReLU(), Linear(128,1))\n",
    "        self.adrenal_head = Sequential(Linear(768, 128), ReLU(), Linear(128,1))\n",
    "        self.liver_head = Sequential(Linear(768, 128), ReLU(), Linear(128,1))\n",
    "        self.lung_head = Sequential(Linear(768, 128), ReLU(), Linear(128,1))\n",
    "        self.node_head = Sequential(Linear(768, 128), ReLU(), Linear(128,1))\n",
    "        self.peritoneal_head = Sequential(Linear(768, 128), ReLU(), Linear(128,1))\n",
    "\n",
    "        \n",
    "    def forward(self, x_text_tensor, x_attention_mask):\n",
    "        # x should be tuple of input IDs, then attention mask\n",
    "        \n",
    "        main = self.bert(x_text_tensor, x_attention_mask)\n",
    "        main = main.last_hidden_state[:,0,:].squeeze(1)\n",
    "\n",
    "                                          \n",
    "        any_cancer_out = self.any_cancer_head(main)\n",
    "        response_out = self.response_head(main)\n",
    "        progression_out = self.progression_head(main)\n",
    "        brain_out = self.brain_head(main)\n",
    "        bone_out = self.bone_head(main)\n",
    "        adrenal_out = self.adrenal_head(main)\n",
    "        liver_out = self.liver_head(main)\n",
    "        lung_out = self.lung_head(main)\n",
    "        node_out = self.node_head(main)\n",
    "        peritoneum_out = self.peritoneal_head(main)\n",
    "\n",
    "\n",
    "        \n",
    "        return any_cancer_out, response_out, progression_out, brain_out, bone_out, adrenal_out, liver_out, lung_out, node_out, peritoneum_out\n",
    "        \n",
    "\n",
    "\n"
   ]
  },
  {
   "cell_type": "code",
   "execution_count": null,
   "metadata": {},
   "outputs": [],
   "source": []
  },
  {
   "cell_type": "code",
   "execution_count": 22,
   "metadata": {},
   "outputs": [],
   "source": [
    "# train loop\n",
    "from transformers import get_scheduler\n",
    "from torch.optim import AdamW, Adam\n",
    "#, get_linear_schedule_with_warmup\n",
    "\n",
    "\n",
    "def train_model(model, num_epochs, trainloader, validloader=None, device='cuda'):\n",
    "    \n",
    "    \n",
    "\n",
    "    optimizer = AdamW(model.parameters(), lr=5e-5)\n",
    "    num_training_steps = num_epochs * len(trainloader)\n",
    "    lr_scheduler = get_scheduler(\n",
    "        name=\"linear\", optimizer=optimizer, num_warmup_steps=0, num_training_steps=num_training_steps)\n",
    "\n",
    "    model.to(device)\n",
    "    \n",
    "    for epoch in range(num_epochs):  \n",
    "        running_train_losses = [0.0 for i in range(10)]\n",
    "        mean_train_losses = [0.0 for i in range(10)]\n",
    "        \n",
    "        running_valid_losses = [0.0 for i in range(10)]\n",
    "        mean_valid_losses = [0.0 for i in range(10)]\n",
    "\n",
    "        num_train_batches = len(trainloader)\n",
    "                \n",
    "        model.train()\n",
    "        \n",
    "        for i, batch in enumerate(trainloader, 0):\n",
    "            input_ids = batch[0].to(device)\n",
    "            input_masks = batch[1].to(device)\n",
    "            \n",
    "            optimizer.zero_grad()\n",
    "            \n",
    "            outputs_true = [x.to(device) for x in batch[2:]]\n",
    "            \n",
    "            outputs_pred = model(input_ids, input_masks)\n",
    "            \n",
    "           \n",
    "            losses = [F.binary_cross_entropy_with_logits(outputs_pred[x].squeeze(1), outputs_true[x]) for x in range(10)]\n",
    "            \n",
    "            total_loss = 0.0\n",
    "            for j in range(10):\n",
    "                total_loss = total_loss + losses[j]\n",
    "\n",
    "                \n",
    "            total_loss.backward()\n",
    "            optimizer.step()\n",
    "            lr_scheduler.step()\n",
    "            \n",
    "            \n",
    "            for j in range(10):\n",
    "                running_train_losses[j] += losses[j].detach().cpu().numpy()\n",
    "                mean_train_losses[j] = running_train_losses[j] / (i+1)\n",
    "                \n",
    "            print('Training Epoch: ' + str(epoch+1) + ', batch: ' + str(i + 1) + '/' + str(num_train_batches) + ' this_loss:' + str(total_loss.detach().cpu().numpy()) +', train losses: ' + str([str(x) + ': ' + str(mean_train_losses[x]) + \", \" for x in range(10)]), end='\\r', flush=True)\n",
    "        \n",
    "        print('\\n')\n",
    "        # eval on valid\n",
    "        \n",
    "        if validloader is not None:\n",
    "            num_valid_batches = len(validloader)\n",
    "            model.eval()\n",
    "            \n",
    "            for i, batch in enumerate(validloader, 0):\n",
    "                input_ids = batch[0].to(device)\n",
    "                input_masks = batch[1].to(device)\n",
    "\n",
    "\n",
    "                outputs_true = [x.to(device) for x in batch[2:]]\n",
    "\n",
    "                outputs_pred = model(input_ids, input_masks)\n",
    "\n",
    "                losses = [F.binary_cross_entropy_with_logits(outputs_pred[x].squeeze(1), outputs_true[x]) for x in range(10)]\n",
    "\n",
    "                total_loss = 0.0\n",
    "                for j in range(10):\n",
    "                    total_loss = total_loss + losses[j]\n",
    "                \n",
    "\n",
    "\n",
    "                for j in range(10):\n",
    "                    running_valid_losses[j] += losses[j].detach().cpu().numpy()\n",
    "\n",
    "            \n",
    "            for j in range(10):\n",
    "                mean_valid_losses[j] = running_valid_losses[j] / (i+1)\n",
    "            \n",
    "\n",
    "            \n",
    "            print('Validation Epoch: ' + str(epoch+1) + ', batch: ' + str(i + 1) + '/' + str(num_valid_batches) + ', valid losses: ' + str([str(x) + ': ' + str(mean_valid_losses[x]) + \", \" for x in range(10)]), end='\\r', flush=True)\n",
    "            print('\\n')\n",
    "\n",
    "    "
   ]
  },
  {
   "cell_type": "code",
   "execution_count": 23,
   "metadata": {},
   "outputs": [],
   "source": [
    "# actual training code, commented out after model was trained\n",
    "\n",
    "# training_small = training.sample(10)\n",
    "# validation_small = validation.sample(10)\n",
    "\n",
    "# themodel = LabeledModel().to('cuda')\n",
    "# trainloader = data.DataLoader(LabeledDataset(training.reset_index(drop=True)), batch_size=16, num_workers=8, shuffle=True)\n",
    "# validloader = data.DataLoader(LabeledDataset(validation.reset_index(drop=True)), batch_size=16, num_workers=8, shuffle=True)\n",
    "# train_model(themodel,3, trainloader, validloader)"
   ]
  },
  {
   "cell_type": "code",
   "execution_count": 24,
   "metadata": {},
   "outputs": [],
   "source": [
    "# torch.save(themodel.state_dict(), './pan_prissmm_full_imaging_bert.pt')"
   ]
  },
  {
   "cell_type": "code",
   "execution_count": 25,
   "metadata": {},
   "outputs": [],
   "source": [
    "# write out actual validation dataset\n",
    "themodel = LabeledModel()\n",
    "themodel.load_state_dict(torch.load('./pan_prissmm_full_imaging_bert.pt'))\n",
    "themodel.to('cuda')\n",
    "\n",
    "themodel.eval()\n",
    "\n",
    "no_shuffle_valid_dataset = data.DataLoader(LabeledDataset(validation), batch_size=16, shuffle=False, num_workers=0)\n",
    "\n",
    "output_true_lists = [[] for x in range(10)]\n",
    "output_prediction_lists = [[] for x in range(10)]\n",
    "for batch in no_shuffle_valid_dataset:\n",
    "    x_text_ids = batch[0].to('cuda')\n",
    "    x_attention_mask = batch[1].to('cuda')\n",
    "    with torch.no_grad():\n",
    "        predictions = themodel(x_text_ids, x_attention_mask)\n",
    "    for j in range(10):\n",
    "        output_true_lists[j].append(batch[2+j].detach().cpu().numpy())\n",
    "        output_prediction_lists[j].append(predictions[j].detach().cpu().numpy())\n",
    "\n",
    "output_true_lists = [np.concatenate(x) for x in output_true_lists]        \n",
    "output_prediction_lists = [np.concatenate(x) for x in output_prediction_lists]\n",
    "\n",
    "\n",
    "output_validation = validation.copy()\n",
    "for x in range(10):\n",
    "    output_validation['outcome_' + str(x) + '_logit'] = output_prediction_lists[x]\n",
    "\n"
   ]
  },
  {
   "cell_type": "code",
   "execution_count": 26,
   "metadata": {},
   "outputs": [],
   "source": [
    "from sklearn.metrics import roc_auc_score\n"
   ]
  },
  {
   "cell_type": "code",
   "execution_count": 27,
   "metadata": {},
   "outputs": [
    {
     "name": "stdout",
     "output_type": "stream",
     "text": [
      "0.9641739987904319\n",
      "0.9658665717767068\n",
      "0.9582305281408376\n",
      "0.9896929478308519\n",
      "0.9873038068314233\n",
      "0.9854578433825368\n",
      "0.9851000898396989\n",
      "0.9684762348555452\n",
      "0.9753968201783224\n",
      "0.982280179272217\n"
     ]
    },
    {
     "data": {
      "text/plain": [
       "[None, None, None, None, None, None, None, None, None, None]"
      ]
     },
     "execution_count": 27,
     "metadata": {},
     "output_type": "execute_result"
    }
   ],
   "source": [
    "[print(roc_auc_score(output_true_lists[x], output_prediction_lists[x])) for x in range(10)]"
   ]
  },
  {
   "cell_type": "code",
   "execution_count": 29,
   "metadata": {},
   "outputs": [],
   "source": [
    "import seaborn as sns"
   ]
  },
  {
   "cell_type": "code",
   "execution_count": 30,
   "metadata": {},
   "outputs": [
    {
     "name": "stderr",
     "output_type": "stream",
     "text": [
      "/tmp/ipykernel_5431/475399193.py:1: UserWarning: \n",
      "\n",
      "`distplot` is a deprecated function and will be removed in seaborn v0.14.0.\n",
      "\n",
      "Please adapt your code to use either `displot` (a figure-level function with\n",
      "similar flexibility) or `histplot` (an axes-level function for histograms).\n",
      "\n",
      "For a guide to updating your code to use the new functions, please see\n",
      "https://gist.github.com/mwaskom/de44147ed2974457ad6372750bbe5751\n",
      "\n",
      "  sns.distplot(output_validation.outcome_1_logit)\n"
     ]
    },
    {
     "data": {
      "text/plain": [
       "<Axes: xlabel='outcome_1_logit', ylabel='Density'>"
      ]
     },
     "execution_count": 30,
     "metadata": {},
     "output_type": "execute_result"
    },
    {
     "data": {
      "image/png": "[encoded data removed]",
      "text/plain": [
       "<Figure size 640x480 with 1 Axes>"
      ]
     },
     "metadata": {},
     "output_type": "display_data"
    }
   ],
   "source": [
    "sns.distplot(output_validation.outcome_1_logit)"
   ]
  },
  {
   "cell_type": "code",
   "execution_count": null,
   "metadata": {},
   "outputs": [],
   "source": []
  },
  {
   "cell_type": "code",
   "execution_count": 31,
   "metadata": {},
   "outputs": [],
   "source": [
    "# write out actual test dataset\n",
    "themodel = LabeledModel()\n",
    "themodel.load_state_dict(torch.load('./pan_prissmm_full_imaging_bert.pt'))\n",
    "themodel.to('cuda')\n",
    "\n",
    "themodel.eval()\n",
    "\n",
    "no_shuffle_valid_dataset = data.DataLoader(LabeledDataset(test), batch_size=16, shuffle=False, num_workers=0)\n",
    "\n",
    "output_true_lists = [[] for x in range(10)]\n",
    "output_prediction_lists = [[] for x in range(10)]\n",
    "for batch in no_shuffle_valid_dataset:\n",
    "    #thisframe = pd.DataFrame()\n",
    "    x_text_ids = batch[0].to('cuda')\n",
    "    x_attention_mask = batch[1].to('cuda')\n",
    "    with torch.no_grad():\n",
    "        predictions = themodel(x_text_ids, x_attention_mask)\n",
    "    for j in range(10):\n",
    "        output_true_lists[j].append(batch[2+j].detach().cpu().numpy())\n",
    "        output_prediction_lists[j].append(predictions[j].detach().cpu().numpy())\n",
    "\n",
    "output_true_lists = [np.concatenate(x) for x in output_true_lists]        \n",
    "output_prediction_lists = [np.concatenate(x) for x in output_prediction_lists]\n",
    "\n",
    "\n",
    "output_test = test.copy()\n",
    "for x in range(10):\n",
    "    output_test['outcome_' + str(x) + '_logit'] = output_prediction_lists[x]\n",
    "\n"
   ]
  },
  {
   "cell_type": "code",
   "execution_count": 32,
   "metadata": {},
   "outputs": [],
   "source": [
    "from sklearn.metrics import roc_auc_score\n"
   ]
  },
  {
   "cell_type": "code",
   "execution_count": 33,
   "metadata": {},
   "outputs": [
    {
     "name": "stdout",
     "output_type": "stream",
     "text": [
      "0.9743241398235375\n",
      "0.9741017978835665\n",
      "0.9555354364786938\n",
      "0.9925895684409616\n",
      "0.9894491341991342\n",
      "0.9878546905828924\n",
      "0.9866442773804871\n",
      "0.9792392097045892\n",
      "0.974277370846152\n",
      "0.9881377129401502\n"
     ]
    },
    {
     "data": {
      "text/plain": [
       "[None, None, None, None, None, None, None, None, None, None]"
      ]
     },
     "execution_count": 33,
     "metadata": {},
     "output_type": "execute_result"
    }
   ],
   "source": [
    "[print(roc_auc_score(output_true_lists[x], output_prediction_lists[x])) for x in range(10)]"
   ]
  },
  {
   "cell_type": "code",
   "execution_count": null,
   "metadata": {},
   "outputs": [],
   "source": []
  },
  {
   "cell_type": "code",
   "execution_count": 57,
   "metadata": {},
   "outputs": [],
   "source": [
    "#output_test.to_csv('./data/dfci_phi_imaging_eval_on_test.csv')"
   ]
  },
  {
   "cell_type": "code",
   "execution_count": null,
   "metadata": {},
   "outputs": [],
   "source": []
  }
 ],
 "metadata": {
  "kernelspec": {
   "display_name": "Python 3 (ipykernel)",
   "language": "python",
   "name": "python3"
  },
  "language_info": {
   "codemirror_mode": {
    "name": "ipython",
    "version": 3
   },
   "file_extension": ".py",
   "mimetype": "text/x-python",
   "name": "python",
   "nbconvert_exporter": "python",
   "pygments_lexer": "ipython3",
   "version": "3.10.10"
  }
 },
 "nbformat": 4,
 "nbformat_minor": 4
}
